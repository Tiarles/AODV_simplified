{
 "cells": [
  {
   "cell_type": "markdown",
   "metadata": {
    "colab_type": "text",
    "id": "ynbOB9kBAXSN"
   },
   "source": [
    "# Branch"
   ]
  },
  {
   "cell_type": "code",
   "execution_count": 0,
   "metadata": {
    "colab": {
     "autoexec": {
      "startup": false,
      "wait_interval": 0
     }
    },
    "colab_type": "code",
    "id": "6lPGspB3BgIt"
   },
   "outputs": [],
   "source": [
    "import numpy as np\n",
    "import networkx as nx\n",
    "import matplotlib.pyplot as plt\n",
    "\n",
    "color_on  = (253./255, 74./255, 62./255)\n",
    "color_off = (0, 200./255., 1.)"
   ]
  },
  {
   "cell_type": "code",
   "execution_count": 0,
   "metadata": {
    "colab": {
     "autoexec": {
      "startup": false,
      "wait_interval": 0
     }
    },
    "colab_type": "code",
    "id": "fWvtg2mmAV_D"
   },
   "outputs": [],
   "source": [
    "grafo0 = {\n",
    "    1: [2],\n",
    "    2: [1, 3],\n",
    "    3: [2, 4],\n",
    "    4: [3]\n",
    "}\n",
    "\n",
    "pos0 = {\n",
    "    1: (0, .5),\n",
    "    2: (1, -.5),\n",
    "    3: (2, .5),\n",
    "    4: (3, -.5)\n",
    "}\n",
    "\n",
    "grafo1 = {\n",
    "    1: (2, 4),\n",
    "    2: (1, 3),\n",
    "    3: (2, 5),\n",
    "    4: (1, 5),\n",
    "    5: (3, 4)\n",
    "}\n",
    "pos1 = {\n",
    "    1: (0, 0),\n",
    "    2: (1, 1),\n",
    "    3: (2, 1),\n",
    "    4: (1.5, -1),\n",
    "    5: (3, 0)\n",
    "}\n",
    "\n",
    "grafo2 = {\n",
    "    1: (2, 3),\n",
    "    2: (1,4,5),\n",
    "    3: (1,6),\n",
    "    4: (2,7),\n",
    "    5: (2,7),\n",
    "    6: (3,7),\n",
    "    7: (4,5,6)\n",
    "}\n",
    "\n",
    "pos2 = {\n",
    "    1: (0,0),\n",
    "    2: (1,1),\n",
    "    3: (1,-1),\n",
    "    4: (2,1.5),\n",
    "    5: (2,.5),\n",
    "    6: (2, -1),\n",
    "    7: (3, 0)\n",
    "}\n",
    "\n",
    "\n",
    "grafo3 = {\n",
    "    1: (2, 3),\n",
    "    \n",
    "    2: (1,4,5),\n",
    "    3: (1,6,7),\n",
    "    \n",
    "    4: (2, 8, 9),\n",
    "    5: (2, 10, 11),\n",
    "    6: (3, 12, 13),\n",
    "    7: (3, 14, 15),\n",
    "    \n",
    "    8: (4,16),\n",
    "    9: (4,16),\n",
    "    10: (5,16),\n",
    "    11: (5,16),\n",
    "    12: (6,16),\n",
    "    13: (6,16),\n",
    "    14: (7,16),\n",
    "    15: (7, 16),\n",
    "    \n",
    "    16: (8,9,10,11,12,13,14,15)\n",
    "}\n",
    "\n",
    "pos3 = {\n",
    "    1: (0,0),\n",
    "    \n",
    "    2: (1,1),\n",
    "    3: (1,-1),\n",
    "    \n",
    "    4: (2, 2),\n",
    "    5: (2, 1),\n",
    "    6: (2, -1),\n",
    "    7: (2, -2),\n",
    "    \n",
    "    8: (3,4),\n",
    "    9: (3,3),\n",
    "    10: (3,2),\n",
    "    11: (3,1),\n",
    "    12: (3,-1),\n",
    "    13: (3,-2),\n",
    "    14: (3,-3),\n",
    "    15: (3, -4),\n",
    "    \n",
    "    16: (4,0)\n",
    "}"
   ]
  },
  {
   "cell_type": "code",
   "execution_count": 161,
   "metadata": {
    "colab": {
     "autoexec": {
      "startup": false,
      "wait_interval": 0
     },
     "base_uri": "https://localhost:8080/",
     "height": 194
    },
    "colab_type": "code",
    "executionInfo": {
     "elapsed": 876,
     "status": "ok",
     "timestamp": 1529286376750,
     "user": {
      "displayName": "Tiarles Guterres",
      "photoUrl": "//lh5.googleusercontent.com/-C2Cbsg70KoA/AAAAAAAAAAI/AAAAAAAADDw/-P2a-mXJk_8/s50-c-k-no/photo.jpg",
      "userId": "103221925810470960539"
     },
     "user_tz": 180
    },
    "id": "W5qv0eHaTim6",
    "outputId": "48ccc6e3-40fe-4792-fa24-def9b90b8c72"
   },
   "outputs": [
    {
     "data": {
      "image/png": "[encoded data removed]",
      "text/plain": [
       "<matplotlib.figure.Figure at 0x7f2def3676d0>"
      ]
     },
     "metadata": {
      "tags": []
     },
     "output_type": "display_data"
    }
   ],
   "source": [
    "color_on  = (253./255, 74./255, 62./255)\n",
    "color_off = (0, 200./255., 1.)\n",
    "\n",
    "G = nx.Graph()\n",
    "\n",
    "G.add_nodes_from(grafo0.keys())\n",
    "G.add_edges_from(generateEdges(grafo0))\n",
    "\n",
    "plt.figure(figsize=(5,2))\n",
    "nx.draw(G, pos=pos0, \n",
    "        with_labels=True, node_color=color_on)\n",
    "# plt.legend()\n",
    "plt.show()"
   ]
  },
  {
   "cell_type": "code",
   "execution_count": 0,
   "metadata": {
    "colab": {
     "autoexec": {
      "startup": false,
      "wait_interval": 0
     }
    },
    "colab_type": "code",
    "id": "b3HyLEC7h3vM"
   },
   "outputs": [],
   "source": []
  },
  {
   "cell_type": "code",
   "execution_count": 140,
   "metadata": {
    "colab": {
     "autoexec": {
      "startup": false,
      "wait_interval": 0
     },
     "base_uri": "https://localhost:8080/",
     "height": 192
    },
    "colab_type": "code",
    "executionInfo": {
     "elapsed": 1558,
     "status": "ok",
     "timestamp": 1529282081582,
     "user": {
      "displayName": "Tiarles Guterres",
      "photoUrl": "//lh5.googleusercontent.com/-C2Cbsg70KoA/AAAAAAAAAAI/AAAAAAAADDw/-P2a-mXJk_8/s50-c-k-no/photo.jpg",
      "userId": "103221925810470960539"
     },
     "user_tz": 180
    },
    "id": "jjVkjkvRBdwF",
    "outputId": "bc14918b-a107-431e-871e-bed4cfc0dc68"
   },
   "outputs": [
    {
     "data": {
      "image/png": "[encoded data removed]",
      "text/plain": [
       "<matplotlib.figure.Figure at 0x7f2def713910>"
      ]
     },
     "metadata": {
      "tags": []
     },
     "output_type": "display_data"
    }
   ],
   "source": [
    "G = nx.Graph()\n",
    "\n",
    "G.add_nodes_from(grafo1.keys())\n",
    "G.add_edges_from(generateEdges(grafo1))\n",
    "\n",
    "plt.figure(figsize=(5,2))\n",
    "nx.draw(G, pos=pos1, \n",
    "        with_labels=True, node_color=color_on)\n",
    "# plt.legend()\n",
    "plt.show()"
   ]
  },
  {
   "cell_type": "code",
   "execution_count": 115,
   "metadata": {
    "colab": {
     "autoexec": {
      "startup": false,
      "wait_interval": 0
     },
     "base_uri": "https://localhost:8080/",
     "height": 192
    },
    "colab_type": "code",
    "executionInfo": {
     "elapsed": 916,
     "status": "ok",
     "timestamp": 1529280094797,
     "user": {
      "displayName": "Tiarles Guterres",
      "photoUrl": "//lh5.googleusercontent.com/-C2Cbsg70KoA/AAAAAAAAAAI/AAAAAAAADDw/-P2a-mXJk_8/s50-c-k-no/photo.jpg",
      "userId": "103221925810470960539"
     },
     "user_tz": 180
    },
    "id": "BAAYGXjVD7Oz",
    "outputId": "2eb4fc52-d8b2-42aa-81c2-362f5bf3d6c6"
   },
   "outputs": [
    {
     "data": {
      "image/png": "[encoded data removed]",
      "text/plain": [
       "<matplotlib.figure.Figure at 0x7f2def66f290>"
      ]
     },
     "metadata": {
      "tags": []
     },
     "output_type": "display_data"
    }
   ],
   "source": [
    "G = nx.Graph()\n",
    "\n",
    "G.add_nodes_from(grafo2.keys())\n",
    "G.add_edges_from(generateEdges(grafo2))\n",
    "\n",
    "plt.figure(figsize=(5,2))\n",
    "nx.draw(G, pos=pos2, \n",
    "        with_labels=True, node_color=color_on)\n",
    "# plt.legend()\n",
    "plt.show()"
   ]
  },
  {
   "cell_type": "code",
   "execution_count": 116,
   "metadata": {
    "colab": {
     "autoexec": {
      "startup": false,
      "wait_interval": 0
     },
     "base_uri": "https://localhost:8080/",
     "height": 264
    },
    "colab_type": "code",
    "executionInfo": {
     "elapsed": 747,
     "status": "ok",
     "timestamp": 1529280101862,
     "user": {
      "displayName": "Tiarles Guterres",
      "photoUrl": "//lh5.googleusercontent.com/-C2Cbsg70KoA/AAAAAAAAAAI/AAAAAAAADDw/-P2a-mXJk_8/s50-c-k-no/photo.jpg",
      "userId": "103221925810470960539"
     },
     "user_tz": 180
    },
    "id": "jpN03TpNgIGb",
    "outputId": "3f499257-355e-44f7-f898-9b6c33c51364"
   },
   "outputs": [
    {
     "data": {
      "image/png": "[encoded data removed]",
      "text/plain": [
       "<matplotlib.figure.Figure at 0x7f2def53c350>"
      ]
     },
     "metadata": {
      "tags": []
     },
     "output_type": "display_data"
    }
   ],
   "source": [
    "G = nx.Graph()\n",
    "\n",
    "G.add_nodes_from(grafo3.keys())\n",
    "G.add_edges_from(generateEdges(grafo3))\n",
    "\n",
    "plt.figure(figsize=(5,3))\n",
    "nx.draw(G, pos=pos3, \n",
    "        with_labels=True, node_color=color_on)\n",
    "# plt.legend()\n",
    "plt.show()"
   ]
  },
  {
   "cell_type": "code",
   "execution_count": 0,
   "metadata": {
    "colab": {
     "autoexec": {
      "startup": false,
      "wait_interval": 0
     }
    },
    "colab_type": "code",
    "id": "APFYhsmUIcuL"
   },
   "outputs": [],
   "source": []
  },
  {
   "cell_type": "code",
   "execution_count": 0,
   "metadata": {
    "colab": {
     "autoexec": {
      "startup": false,
      "wait_interval": 0
     }
    },
    "colab_type": "code",
    "id": "M6OeLZa_IcmW"
   },
   "outputs": [],
   "source": [
    "def search(grafo, nodoAnt, nodoAtual, origem, destino):\n",
    "    '''Função simples de busca em grafo. Este não deve ter loop que excluam o \n",
    "    nodo origem e o nodo destino, o grafo não pode ter pontas soltas que não \n",
    "    incliuam o nodo origem ou destino'''\n",
    "    if nodoAnt == 0:\n",
    "        edges = list(grafo[nodoAtual])\n",
    "        print \"edges = \", edges\n",
    "        print \"nodo ant = \", nodoAnt\n",
    "        print \"nodo atu = \", nodoAtual\n",
    "        print \"\\n\"\n",
    "        for edge in grafo[nodoAtual]:\n",
    "            search(grafo, nodoAtual, edge, origem, destino)\n",
    "    else:            \n",
    "        if nodoAtual == destino:\n",
    "            print (\"Finded\")\n",
    "            return\n",
    "        elif nodoAtual == origem:\n",
    "            print (\"Loop\")\n",
    "            return\n",
    "        else:\n",
    "            edges = list(grafo[nodoAtual])\n",
    "            print \"edges = \", edges\n",
    "            print \"nodo ant = \", nodoAnt\n",
    "            print \"nodo atu = \", nodoAtual\n",
    "            print \"\\n\"\n",
    "            edges.remove(nodoAnt)\n",
    "            for edge in edges:\n",
    "                search(grafo, nodoAtual, edge, origem, destino)"
   ]
  },
  {
   "cell_type": "code",
   "execution_count": 0,
   "metadata": {
    "colab": {
     "autoexec": {
      "startup": false,
      "wait_interval": 0
     }
    },
    "colab_type": "code",
    "id": "3-6KZzdAIcSz"
   },
   "outputs": [],
   "source": [
    "search(grafo1, 0, 1, 1, 5)\n",
    "search(grafo2, 0, 1, 1, 7)"
   ]
  },
  {
   "cell_type": "markdown",
   "metadata": {
    "colab_type": "text",
    "id": "E0uMkoLlZPd4"
   },
   "source": [
    "# AODV de fato"
   ]
  },
  {
   "cell_type": "code",
   "execution_count": 0,
   "metadata": {
    "colab": {
     "autoexec": {
      "startup": false,
      "wait_interval": 0
     }
    },
    "colab_type": "code",
    "id": "_BcnZF1fnyGs"
   },
   "outputs": [],
   "source": [
    "class Node:\n",
    "    def __init__(self, id):\n",
    "        self.id = id\n",
    "        self.nextNode = {} # id: (nextNode, hops)\n",
    "    \n",
    "    def add_nextNode(self, id, nextNode):\n",
    "        self.nextNode[id] = (nextNode)\n",
    "        \n",
    "    def __str__(self):\n",
    "        string \n",
    "        return \"Nodo %d \\n \" + str()\n",
    "    \n",
    "def generateEdges(grafo):\n",
    "    return [(key, node) \n",
    "                for key in grafo.keys()\n",
    "            for node in grafo[key]]"
   ]
  },
  {
   "cell_type": "code",
   "execution_count": 0,
   "metadata": {
    "colab": {
     "autoexec": {
      "startup": false,
      "wait_interval": 0
     }
    },
    "colab_type": "code",
    "id": "FtVw2ic_ZUKL"
   },
   "outputs": [],
   "source": [
    "grafo0 = {\n",
    "    1: [2],\n",
    "    2: [1, 3],\n",
    "    3: [2, 4],\n",
    "    4: [3]\n",
    "}\n",
    "\n",
    "nodes0 = {\n",
    "    1: Node(1),\n",
    "    2: Node(2),\n",
    "    3: Node(3),\n",
    "    4: Node(4)\n",
    "}\n",
    "\n",
    "pos0 = {\n",
    "    1: (0, .5),\n",
    "    2: (1, -.5),\n",
    "    3: (2, .5),\n",
    "    4: (3, -.5)\n",
    "}\n",
    "\n",
    "grafo2 = {\n",
    "    1: (2, 3),\n",
    "    2: (1,4,5),\n",
    "    3: (1,6),\n",
    "    4: (2,7),\n",
    "    5: (2,7),\n",
    "    6: (3,7),\n",
    "    7: (4,5,6)\n",
    "}\n",
    "\n",
    "pos2 = {\n",
    "    1: (0,0),\n",
    "    2: (1,1),\n",
    "    3: (1,-1),\n",
    "    4: (2,1.5),\n",
    "    5: (2,.5),\n",
    "    6: (2, -1),\n",
    "    7: (3, 0)\n",
    "}"
   ]
  },
  {
   "cell_type": "code",
   "execution_count": 0,
   "metadata": {
    "colab": {
     "autoexec": {
      "startup": false,
      "wait_interval": 0
     }
    },
    "colab_type": "code",
    "id": "mi8RnAG9ZUD8"
   },
   "outputs": [],
   "source": [
    "def RREQ(grafo, nodes, nodoAnt, nodoAtual, origem, destino, path):\n",
    "    '''Função simples de busca em grafo. Este não deve ter loop que excluam o \n",
    "    nodo origem e o nodo destino, o grafo não pode ter pontas soltas que não \n",
    "    incliuam o nodo origem ou destino'''\n",
    "    \n",
    "    print nodoAtual\n",
    "    \n",
    "    path.append(nodoAtual)\n",
    "    print path\n",
    "    if nodoAnt == 0:\n",
    "        edges = list(grafo[nodoAtual])\n",
    "        for edge in grafo[nodoAtual]:\n",
    "            return RREQ(grafo, nodes, nodoAtual, edge, origem, destino, path)\n",
    "    else:            \n",
    "        if nodoAtual == destino:\n",
    "            return path\n",
    "        else:\n",
    "            edges = list(grafo[nodoAtual])\n",
    "            edges.remove(nodoAnt)\n",
    "#             nodoAtual.add_nextNode\n",
    "#             nodes[nodoAtual].add_nextNode()\n",
    "            for edge in edges:\n",
    "                return RREQ(grafo, nodes, nodoAtual, edge, origem, destino, path)"
   ]
  },
  {
   "cell_type": "code",
   "execution_count": 45,
   "metadata": {
    "colab": {
     "autoexec": {
      "startup": false,
      "wait_interval": 0
     },
     "base_uri": "https://localhost:8080/",
     "height": 173
    },
    "colab_type": "code",
    "executionInfo": {
     "elapsed": 758,
     "status": "ok",
     "timestamp": 1529451205215,
     "user": {
      "displayName": "Tiarles Guterres",
      "photoUrl": "//lh5.googleusercontent.com/-C2Cbsg70KoA/AAAAAAAAAAI/AAAAAAAADDw/-P2a-mXJk_8/s50-c-k-no/photo.jpg",
      "userId": "103221925810470960539"
     },
     "user_tz": 180
    },
    "id": "Kknai_I_ZT8H",
    "outputId": "d973e776-a984-4394-d057-1d09a062aad7"
   },
   "outputs": [
    {
     "name": "stdout",
     "output_type": "stream",
     "text": [
      "1\n",
      "[1]\n",
      "2\n",
      "[1, 2]\n",
      "3\n",
      "[1, 2, 3]\n",
      "4\n",
      "[1, 2, 3, 4]\n",
      "[1, 2, 3, 4]\n"
     ]
    }
   ],
   "source": [
    "print RREQ(grafo0, nodes0, 0, 1, 1, 4, [])\n",
    "# print nodes"
   ]
  },
  {
   "cell_type": "code",
   "execution_count": 0,
   "metadata": {
    "colab": {
     "autoexec": {
      "startup": false,
      "wait_interval": 0
     }
    },
    "colab_type": "code",
    "id": "ay6eGjU8ZTzh"
   },
   "outputs": [],
   "source": []
  },
  {
   "cell_type": "markdown",
   "metadata": {
    "colab_type": "text",
    "id": "pzhAZ-hOM5OK"
   },
   "source": [
    "#### Bibliotecas utilizadas"
   ]
  },
  {
   "cell_type": "code",
   "execution_count": 0,
   "metadata": {
    "colab": {
     "autoexec": {
      "startup": false,
      "wait_interval": 0
     }
    },
    "colab_type": "code",
    "id": "DygtKwojM5OM"
   },
   "outputs": [],
   "source": [
    "import numpy as np\n",
    "import networkx as nx\n",
    "import matplotlib.pyplot as plt\n",
    "\n",
    "color_on  = (253./255, 74./255, 62./255)\n",
    "color_off = (0, 200./255., 1.)"
   ]
  },
  {
   "cell_type": "markdown",
   "metadata": {
    "colab_type": "text",
    "id": "_732Di8FM5OR"
   },
   "source": [
    "### Classes e métodos utilizados"
   ]
  },
  {
   "cell_type": "code",
   "execution_count": 0,
   "metadata": {
    "colab": {
     "autoexec": {
      "startup": false,
      "wait_interval": 0
     }
    },
    "colab_type": "code",
    "id": "rthzxJmJM5OS"
   },
   "outputs": [],
   "source": [
    "# Classes e Métodos\n",
    "\n",
    "class Node:\n",
    "    def __init__(self, id, edges):\n",
    "        self.id = id\n",
    "        self.edges = edges\n",
    "        self.dest = []\n",
    "        self.next = []\n",
    "        self.hops = []\n",
    "        self.sequ = []\n",
    "    \n",
    "    def __str__(self):\n",
    "        \n",
    "        string = \"Nodo %d\\n\" % self.id + \\\n",
    "            \"dest: \" + str(self.dest) + '\\n'+\\\n",
    "            \"next: \" + str(self.next) + '\\n'+\\\n",
    "            \"hops: \" + str(self.hops) + '\\n'+\\\n",
    "            \"sequ: \" + str(self.sequ) + '\\n'\n",
    "        \n",
    "        return string"
   ]
  },
  {
   "cell_type": "code",
   "execution_count": 0,
   "metadata": {
    "colab": {
     "autoexec": {
      "startup": false,
      "wait_interval": 0
     }
    },
    "colab_type": "code",
    "id": "246de34sBbcT"
   },
   "outputs": [],
   "source": []
  },
  {
   "cell_type": "markdown",
   "metadata": {
    "colab_type": "text",
    "id": "8Fobd5AHM5OV"
   },
   "source": [
    "### Funções de Iteração com o simulador"
   ]
  },
  {
   "cell_type": "code",
   "execution_count": 0,
   "metadata": {
    "colab": {
     "autoexec": {
      "startup": false,
      "wait_interval": 0
     }
    },
    "colab_type": "code",
    "id": "racx2Q1PM5OW"
   },
   "outputs": [],
   "source": [
    "def start_simulador(grafo):\n",
    "    global nodes\n",
    "    global nulo\n",
    "    \n",
    "    nodes = {}\n",
    "    \n",
    "    nulo = Node(0, ())\n",
    "    \n",
    "    for node, edge in grafo.items():\n",
    "        nodes[node] = Node(node, edge)\n",
    "\n",
    "def transmission(origem, destino):\n",
    "#     nodo_origem = nodes[origem]\n",
    "#     if destino not in nodo_origem.dest:\n",
    "#         print \"Destino não presente na tabela da origem (RREQ)\"\n",
    "#         nodo_origem.route_request()\n",
    "#     else:\n",
    "#         if nodo_origem_check_complete_route():\n",
    "#             print \"transmissão realizada.\"\n",
    "    pass\n",
    "        \n",
    "    \n",
    "def break_link(nodo_id):\n",
    "    pass\n",
    "\n",
    "def new_link(node, edges):\n",
    "    pass\n"
   ]
  },
  {
   "cell_type": "code",
   "execution_count": 0,
   "metadata": {
    "colab": {
     "autoexec": {
      "startup": false,
      "wait_interval": 0
     }
    },
    "colab_type": "code",
    "id": "Kx7U_xvTAVDu"
   },
   "outputs": [],
   "source": []
  },
  {
   "cell_type": "markdown",
   "metadata": {
    "colab_type": "text",
    "id": "idq-32JhM5OY"
   },
   "source": [
    "### O programa principal, contendo o fluxo de manipulação do grafo"
   ]
  },
  {
   "cell_type": "code",
   "execution_count": 26,
   "metadata": {
    "colab": {
     "autoexec": {
      "startup": false,
      "wait_interval": 0
     },
     "base_uri": "https://localhost:8080/",
     "height": 225
    },
    "colab_type": "code",
    "executionInfo": {
     "elapsed": 555,
     "status": "ok",
     "timestamp": 1529178795412,
     "user": {
      "displayName": "Tiarles Guterres",
      "photoUrl": "//lh5.googleusercontent.com/-C2Cbsg70KoA/AAAAAAAAAAI/AAAAAAAADDw/-P2a-mXJk_8/s50-c-k-no/photo.jpg",
      "userId": "103221925810470960539"
     },
     "user_tz": 180
    },
    "id": "f4cfGUH1M5OZ",
    "outputId": "51796653-b63a-430d-d35e-7d8942943fd9"
   },
   "outputs": [
    {
     "name": "stdout",
     "output_type": "stream",
     "text": [
      "[]\n",
      "5\n",
      "Destino não presente na tabela da origem (RREQ)\n",
      "[]\n",
      "5\n",
      "Destino não presente na tabela da origem (RREQ)\n",
      "[]\n",
      "5\n",
      "Destino não presente na tabela da origem (RREQ)\n",
      "[]\n",
      "5\n",
      "Destino não presente na tabela da origem (RREQ)\n"
     ]
    }
   ],
   "source": [
    "def test_grafo1():\n",
    "    grafo = {\n",
    "        1: (2, 4),\n",
    "        2: (1, 3),\n",
    "        3: (2, 5),\n",
    "        4: (1, 5),\n",
    "        5: (3, 4)\n",
    "    }\n",
    "\n",
    "    start_simulador(grafo) # Configura o nodos e o Grafo\n",
    "    transmission(1, 5)     # Realiza a transmissão, com RREQ e RREP\n",
    "    \n",
    "    break_link(4)          # Retira um dos links disponíveis\n",
    "    transmission(1, 5)     # Tenta novamente comunicar pelo mesmo caminho e detecta quebra de link (RERR). \n",
    "                           #     Faz um novo RREQ e um RREP\n",
    "    break_link(3)          # Retira o único link disponível para 5\n",
    "    transmission(1, 5)     # Tenta comunicar novamente mas nao possui mais links e retorna um erro fatal\n",
    "    new_link(6, (1, 5))    # Cria novo link que liga 1 á 5 por 6\n",
    "    transmission(1, 5)     # Tenta comunicação e realiza com o link 6.\n",
    "    \n",
    "test_grafo1()"
   ]
  },
  {
   "cell_type": "markdown",
   "metadata": {
    "colab_type": "text",
    "id": "2QwU-jWCM5Oc"
   },
   "source": [
    "#### Montagem do dos grafos para apresentação "
   ]
  },
  {
   "cell_type": "code",
   "execution_count": 10,
   "metadata": {
    "colab": {
     "autoexec": {
      "startup": false,
      "wait_interval": 0
     },
     "base_uri": "https://localhost:8080/",
     "height": 210
    },
    "colab_type": "code",
    "executionInfo": {
     "elapsed": 1032,
     "status": "ok",
     "timestamp": 1529164762580,
     "user": {
      "displayName": "Tiarles Guterres",
      "photoUrl": "//lh5.googleusercontent.com/-C2Cbsg70KoA/AAAAAAAAAAI/AAAAAAAADDw/-P2a-mXJk_8/s50-c-k-no/photo.jpg",
      "userId": "103221925810470960539"
     },
     "user_tz": 180
    },
    "id": "0yW3SqkBM5Od",
    "outputId": "1f214c01-ad13-4a02-fdf9-80160ee9bc11"
   },
   "outputs": [
    {
     "name": "stderr",
     "output_type": "stream",
     "text": [
      "No handlers could be found for logger \"matplotlib.legend\"\n"
     ]
    },
    {
     "data": {
      "image/png": "[encoded data removed]",
      "text/plain": [
       "<matplotlib.figure.Figure at 0x7f5227006190>"
      ]
     },
     "metadata": {
      "tags": []
     },
     "output_type": "display_data"
    }
   ],
   "source": [
    "G = nx.Graph()\n",
    "\n",
    "G.add_nodes_from([1,2,3,4,5])\n",
    "G.add_edges_from([(1, 2), (1, 4), (2, 3), (3, 5), (4, 5)])\n",
    "\n",
    "plt.figure(figsize=(5,2))\n",
    "nx.draw(G, pos={1: (0,0), 2: (1, 1), 3: (2,1), 4: (1.5, -1), 5: (3, 0)}, with_labels=True, node_color=color_on)\n",
    "plt.legend()\n",
    "plt.show()"
   ]
  },
  {
   "cell_type": "code",
   "execution_count": 11,
   "metadata": {
    "colab": {
     "autoexec": {
      "startup": false,
      "wait_interval": 0
     },
     "base_uri": "https://localhost:8080/",
     "height": 192
    },
    "colab_type": "code",
    "executionInfo": {
     "elapsed": 588,
     "status": "ok",
     "timestamp": 1529164763293,
     "user": {
      "displayName": "Tiarles Guterres",
      "photoUrl": "//lh5.googleusercontent.com/-C2Cbsg70KoA/AAAAAAAAAAI/AAAAAAAADDw/-P2a-mXJk_8/s50-c-k-no/photo.jpg",
      "userId": "103221925810470960539"
     },
     "user_tz": 180
    },
    "id": "e9QDByspM5Oi",
    "outputId": "056fd127-0525-4fc9-8831-617139b4310b"
   },
   "outputs": [
    {
     "data": {
      "image/png": "[encoded data removed]",
      "text/plain": [
       "<matplotlib.figure.Figure at 0x7f52279d9d90>"
      ]
     },
     "metadata": {
      "tags": []
     },
     "output_type": "display_data"
    }
   ],
   "source": [
    "G2 = nx.Graph()\n",
    "\n",
    "G2.add_nodes_from([1,2,3,4,5])\n",
    "G2.add_edges_from([(1, 2),  (2, 3), (3, 5)])\n",
    "\n",
    "plt.figure(figsize=(5,2))\n",
    "nx.draw(G2, pos={1: (0,0), 2: (1, 1), 3: (2,1), 4: (1.5, -1), 5: (3, 0)}, with_labels=True, \n",
    "        node_color=[color_on, color_on, color_on, color_off, color_on])\n",
    "plt.legend()\n",
    "plt.show()"
   ]
  },
  {
   "cell_type": "code",
   "execution_count": 12,
   "metadata": {
    "colab": {
     "autoexec": {
      "startup": false,
      "wait_interval": 0
     },
     "base_uri": "https://localhost:8080/",
     "height": 192
    },
    "colab_type": "code",
    "executionInfo": {
     "elapsed": 566,
     "status": "ok",
     "timestamp": 1529164763976,
     "user": {
      "displayName": "Tiarles Guterres",
      "photoUrl": "//lh5.googleusercontent.com/-C2Cbsg70KoA/AAAAAAAAAAI/AAAAAAAADDw/-P2a-mXJk_8/s50-c-k-no/photo.jpg",
      "userId": "103221925810470960539"
     },
     "user_tz": 180
    },
    "id": "8HNNfwBLM5Om",
    "outputId": "5c824330-3b84-4e4e-8d2a-000e900278e1"
   },
   "outputs": [
    {
     "data": {
      "image/png": "[encoded data removed]",
      "text/plain": [
       "<matplotlib.figure.Figure at 0x7f5224e5f490>"
      ]
     },
     "metadata": {
      "tags": []
     },
     "output_type": "display_data"
    }
   ],
   "source": [
    "G3 = nx.Graph()\n",
    "\n",
    "G3.add_nodes_from([1,2,3,4,5])\n",
    "G3.add_edges_from([(1, 2)])\n",
    "\n",
    "plt.figure(figsize=(5,2))\n",
    "nx.draw(G3, pos={1: (0,0), 2: (1, 1), 3: (2,1), 4: (1.5, -1), 5: (3, 0)}, with_labels=True,\n",
    "        node_color=[color_on, color_on, color_off, color_off, color_on])\n",
    "plt.legend()\n",
    "plt.show()"
   ]
  },
  {
   "cell_type": "code",
   "execution_count": 13,
   "metadata": {
    "colab": {
     "autoexec": {
      "startup": false,
      "wait_interval": 0
     },
     "base_uri": "https://localhost:8080/",
     "height": 192
    },
    "colab_type": "code",
    "executionInfo": {
     "elapsed": 742,
     "status": "ok",
     "timestamp": 1529164765506,
     "user": {
      "displayName": "Tiarles Guterres",
      "photoUrl": "//lh5.googleusercontent.com/-C2Cbsg70KoA/AAAAAAAAAAI/AAAAAAAADDw/-P2a-mXJk_8/s50-c-k-no/photo.jpg",
      "userId": "103221925810470960539"
     },
     "user_tz": 180
    },
    "id": "dCfMkbosM5Oq",
    "outputId": "1a8a0156-3138-40b4-d10d-4c8cd8033d21"
   },
   "outputs": [
    {
     "data": {
      "image/png": "[encoded data removed]",
      "text/plain": [
       "<matplotlib.figure.Figure at 0x7f5224e87f50>"
      ]
     },
     "metadata": {
      "tags": []
     },
     "output_type": "display_data"
    }
   ],
   "source": [
    "G4 = nx.Graph()\n",
    "\n",
    "G4.add_nodes_from([1,2,3,4,5, 6])\n",
    "G4.add_edges_from([(1, 2), (1, 6), (6, 5)])\n",
    "\n",
    "plt.figure(figsize=(5,2))\n",
    "nx.draw(G4, pos={1: (0,0), 2: (1, 1), 3: (2,1), 4: (1.5, -1), 5: (3, 0), 6:(1.5, 0)}, with_labels=True,\n",
    "        node_color=[color_on, color_on, color_off, color_off, color_on])\n",
    "plt.legend()\n",
    "plt.show()"
   ]
  },
  {
   "cell_type": "code",
   "execution_count": 0,
   "metadata": {
    "colab": {
     "autoexec": {
      "startup": false,
      "wait_interval": 0
     }
    },
    "colab_type": "code",
    "id": "7Q2B-EkLM5Ot"
   },
   "outputs": [],
   "source": [
    "grafo = {}"
   ]
  },
  {
   "cell_type": "code",
   "execution_count": 0,
   "metadata": {
    "colab": {
     "autoexec": {
      "startup": false,
      "wait_interval": 0
     }
    },
    "colab_type": "code",
    "id": "Nkg11QIBVOA0"
   },
   "outputs": [],
   "source": [
    "grafo.update?"
   ]
  },
  {
   "cell_type": "code",
   "execution_count": 0,
   "metadata": {
    "colab": {
     "autoexec": {
      "startup": false,
      "wait_interval": 0
     }
    },
    "colab_type": "code",
    "id": "gC15RaGzVTLj"
   },
   "outputs": [],
   "source": []
  }
 ],
 "metadata": {
  "colab": {
   "collapsed_sections": [],
   "default_view": {},
   "name": "avaliation_2_barrica.ipynb",
   "provenance": [],
   "version": "0.3.2",
   "views": {}
  },
  "kernelspec": {
   "display_name": "Python 3",
   "language": "python",
   "name": "python3"
  },
  "language_info": {
   "codemirror_mode": {
    "name": "ipython",
    "version": 3
   },
   "file_extension": ".py",
   "mimetype": "text/x-python",
   "name": "python",
   "nbconvert_exporter": "python",
   "pygments_lexer": "ipython3",
   "version": "3.6.6"
  }
 },
 "nbformat": 4,
 "nbformat_minor": 1
}
