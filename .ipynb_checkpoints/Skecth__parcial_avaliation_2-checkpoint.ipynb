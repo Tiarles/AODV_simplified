{
 "cells": [
  {
   "cell_type": "markdown",
   "metadata": {
    "colab_type": "text",
    "id": "I_sDpjkEwfZ2"
   },
   "source": [
    "# Teste dos protocolos de Roteamento AODV\n",
    "## Avaliação Parcial da disciplina de Redes de Comunicação de Dados\n",
    "\n",
    "### Autor: Tiarles Guterres\n",
    "### Criado em Wed may 9 10:19\n",
    "\n",
    "## Implementado utilizando TDD com a *assert statement* de Python"
   ]
  },
  {
   "cell_type": "code",
   "execution_count": 0,
   "metadata": {
    "colab": {
     "autoexec": {
      "startup": false,
      "wait_interval": 0
     }
    },
    "colab_type": "code",
    "id": "vKBMCbIMwfZ3"
   },
   "outputs": [],
   "source": [
    "import numpy as np\n",
    "import matplotlib.pyplot as plt\n",
    "import pandas as pd\n",
    "\n",
    "import networkx as nx\n",
    "\n",
    "import time\n",
    "\n",
    "def generateEdges(nodes):\n",
    "    all_conex = []\n",
    "    for node in reversed(nodes.keys()):\n",
    "        for nodeb in nodes[node]:\n",
    "            all_conex.append((node, nodeb))\n",
    "    return all_conex"
   ]
  },
  {
   "cell_type": "markdown",
   "metadata": {
    "colab_type": "text",
    "id": "tuMhy4ZPvXi_"
   },
   "source": [
    "## Fase 2 - Preenchimento das tabelas com o RREQ"
   ]
  },
  {
   "cell_type": "code",
   "execution_count": 52,
   "metadata": {
    "colab": {
     "autoexec": {
      "startup": false,
      "wait_interval": 0
     },
     "base_uri": "https://localhost:8080/",
     "height": 192
    },
    "colab_type": "code",
    "executionInfo": {
     "elapsed": 537,
     "status": "ok",
     "timestamp": 1528921115898,
     "user": {
      "displayName": "Tiarles Guterres",
      "photoUrl": "//lh5.googleusercontent.com/-C2Cbsg70KoA/AAAAAAAAAAI/AAAAAAAADDw/-P2a-mXJk_8/s50-c-k-no/photo.jpg",
      "userId": "103221925810470960539"
     },
     "user_tz": 180
    },
    "id": "BHJqbZedvXN3",
    "outputId": "e6205803-7478-4792-9d8e-d40a3d227399"
   },
   "outputs": [
    {
     "data": {
      "image/png": "[encoded data removed]",
      "text/plain": [
       "<matplotlib.figure.Figure at 0x7f7652e87550>"
      ]
     },
     "metadata": {
      "tags": []
     },
     "output_type": "display_data"
    }
   ],
   "source": [
    "grafo = {\n",
    "    1: (2, 4),\n",
    "    2: (1, 3),\n",
    "    3: (2, 5),\n",
    "    4: (1, 5),\n",
    "    5: (3, 4)\n",
    "}\n",
    "\n",
    "# https://networkx.github.io/documentation/stable/tutorial.html\n",
    "\n",
    "edges = generateEdges(grafo)\n",
    "plt.figure(figsize=(5,2))\n",
    "G = nx.Graph()\n",
    "G.add_nodes_from(grafo.keys())\n",
    "G.add_edges_from(edges)\n",
    "nx.draw(G, with_labels=True, pos={1: (0, 0), 2: (1.4,1), 3: (2.6,1), 4: (2,-1), 5: (4, 0)})\n",
    "plt.show()"
   ]
  },
  {
   "cell_type": "code",
   "execution_count": 0,
   "metadata": {
    "colab": {
     "autoexec": {
      "startup": false,
      "wait_interval": 0
     }
    },
    "colab_type": "code",
    "id": "kbIVv2txvXK1"
   },
   "outputs": [],
   "source": [
    "# 'E' = edges\n",
    "# 'D' = destino\n",
    "# 'N' = next\n",
    "# 'H' = hops\n",
    "# 'S' = sequence \n",
    "\n",
    "class Node:\n",
    "    def __init__(self, id, edges):\n",
    "        self.id = id\n",
    "        self.edges = edges\n",
    "        self.dest = []\n",
    "        self.next = []\n",
    "        self.hops = []\n",
    "        self.sequ = []\n",
    "    \n",
    "    def __str__(self):\n",
    "        \n",
    "        string = \"Nodo %d\\n\" % self.id + \\\n",
    "            \"dest: \" + str(self.dest) + '\\n'+\\\n",
    "            \"next: \" + str(self.next) + '\\n'+\\\n",
    "            \"hops: \" + str(self.hops) + '\\n'+\\\n",
    "            \"sequ: \" + str(self.sequ) + '\\n'\n",
    "        \n",
    "        return string\n",
    "    \n",
    "def routing(nodoPrev, nodoAtual, origem, destino):\n",
    "    #check the edges\n",
    "    global nodes\n",
    "    global totalHops\n",
    "    global hops\n",
    "    global seq\n",
    "    \n",
    "    string = \"Ant = %d | Atual = %d | Origem = %d | Destino = %d\"\n",
    "    print(string % (nodoPrev.id, nodoAtual.id, origem.id, destino.id))\n",
    "    \n",
    "    if nodoPrev.id == 0:\n",
    "        hops = 0\n",
    "        seq  = 1\n",
    "        for e in origem.edges:\n",
    "            edge = nodes[e]\n",
    "            retorno = routing(nodoAtual, edge, origem, destino)\n",
    "    else:\n",
    "        if nodoAtual == destino:\n",
    "            if origem not in nodoAtual.dest:\n",
    "                \n",
    "            retorno = 1\n",
    "            print \"Achado o nodo (RREP)\"\n",
    "        else:\n",
    "            if totalHops != 0:\n",
    "                if origem not in nodoAtual.dest:\n",
    "                    \n",
    "                    nodoAtual.dest.append(destino)\n",
    "                    nodoAtual.next.append(nodoPrev)\n",
    "                    nodoAtual.hops.append(hops)\n",
    "                    nodoAtual.sequ.append(seq)\n",
    "                    print nodoAtual\n",
    "                    totalHops -= 1\n",
    "                    edges_list = list(nodoAtual.edges)\n",
    "                    edges_list.remove(nodoPrev.id)\n",
    "                    for e in edges_list:\n",
    "                        edge = nodes[e]\n",
    "                        retorno = routing(nodoAtual, edge, origem, destino)\n",
    "    return retorno\n",
    "                \n",
    "        \n"
   ]
  },
  {
   "cell_type": "code",
   "execution_count": 58,
   "metadata": {
    "colab": {
     "autoexec": {
      "startup": false,
      "wait_interval": 0
     },
     "base_uri": "https://localhost:8080/",
     "height": 730
    },
    "colab_type": "code",
    "executionInfo": {
     "elapsed": 655,
     "status": "error",
     "timestamp": 1528921182273,
     "user": {
      "displayName": "Tiarles Guterres",
      "photoUrl": "//lh5.googleusercontent.com/-C2Cbsg70KoA/AAAAAAAAAAI/AAAAAAAADDw/-P2a-mXJk_8/s50-c-k-no/photo.jpg",
      "userId": "103221925810470960539"
     },
     "user_tz": 180
    },
    "id": "DgIZjXPYvXIG",
    "outputId": "f52b0151-b4b9-48e7-c649-e8a8fe6124f5"
   },
   "outputs": [
    {
     "name": "stdout",
     "output_type": "stream",
     "text": [
      "Nodo 1\n",
      "dest: []\n",
      "next: []\n",
      "hops: []\n",
      "sequ: []\n",
      "\n",
      "Ant = 0 | Atual = 1 | Origem = 1 | Destino = 5\n",
      "Ant = 1 | Atual = 2 | Origem = 1 | Destino = 5\n"
     ]
    },
    {
     "ename": "UnboundLocalError",
     "evalue": "ignored",
     "output_type": "error",
     "traceback": [
      "\u001b[0;31m\u001b[0m",
      "\u001b[0;31mUnboundLocalError\u001b[0mTraceback (most recent call last)",
      "\u001b[0;32m<ipython-input-58-9b4623d86662>\u001b[0m in \u001b[0;36m<module>\u001b[0;34m()\u001b[0m\n\u001b[1;32m     20\u001b[0m     \u001b[0;32massert\u001b[0m \u001b[0mrouting\u001b[0m\u001b[0;34m(\u001b[0m\u001b[0mnulo\u001b[0m\u001b[0;34m,\u001b[0m \u001b[0mnodes\u001b[0m\u001b[0;34m[\u001b[0m\u001b[0;36m1\u001b[0m\u001b[0;34m]\u001b[0m\u001b[0;34m,\u001b[0m \u001b[0mnodes\u001b[0m\u001b[0;34m[\u001b[0m\u001b[0;36m1\u001b[0m\u001b[0;34m]\u001b[0m\u001b[0;34m,\u001b[0m \u001b[0mnodes\u001b[0m\u001b[0;34m[\u001b[0m\u001b[0;36m5\u001b[0m\u001b[0;34m]\u001b[0m\u001b[0;34m)\u001b[0m \u001b[0;34m==\u001b[0m \u001b[0;36m1\u001b[0m\u001b[0;34m\u001b[0m\u001b[0m\n\u001b[1;32m     21\u001b[0m \u001b[0;34m\u001b[0m\u001b[0m\n\u001b[0;32m---> 22\u001b[0;31m \u001b[0mtest_routing\u001b[0m\u001b[0;34m(\u001b[0m\u001b[0;34m)\u001b[0m\u001b[0;34m\u001b[0m\u001b[0m\n\u001b[0m",
      "\u001b[0;32m<ipython-input-58-9b4623d86662>\u001b[0m in \u001b[0;36mtest_routing\u001b[0;34m()\u001b[0m\n\u001b[1;32m     18\u001b[0m     \u001b[0;32mprint\u001b[0m\u001b[0;34m(\u001b[0m\u001b[0mnodes\u001b[0m\u001b[0;34m[\u001b[0m\u001b[0;36m1\u001b[0m\u001b[0;34m]\u001b[0m\u001b[0;34m)\u001b[0m\u001b[0;34m\u001b[0m\u001b[0m\n\u001b[1;32m     19\u001b[0m \u001b[0;34m\u001b[0m\u001b[0m\n\u001b[0;32m---> 20\u001b[0;31m     \u001b[0;32massert\u001b[0m \u001b[0mrouting\u001b[0m\u001b[0;34m(\u001b[0m\u001b[0mnulo\u001b[0m\u001b[0;34m,\u001b[0m \u001b[0mnodes\u001b[0m\u001b[0;34m[\u001b[0m\u001b[0;36m1\u001b[0m\u001b[0;34m]\u001b[0m\u001b[0;34m,\u001b[0m \u001b[0mnodes\u001b[0m\u001b[0;34m[\u001b[0m\u001b[0;36m1\u001b[0m\u001b[0;34m]\u001b[0m\u001b[0;34m,\u001b[0m \u001b[0mnodes\u001b[0m\u001b[0;34m[\u001b[0m\u001b[0;36m5\u001b[0m\u001b[0;34m]\u001b[0m\u001b[0;34m)\u001b[0m \u001b[0;34m==\u001b[0m \u001b[0;36m1\u001b[0m\u001b[0;34m\u001b[0m\u001b[0m\n\u001b[0m\u001b[1;32m     21\u001b[0m \u001b[0;34m\u001b[0m\u001b[0m\n\u001b[1;32m     22\u001b[0m \u001b[0mtest_routing\u001b[0m\u001b[0;34m(\u001b[0m\u001b[0;34m)\u001b[0m\u001b[0;34m\u001b[0m\u001b[0m\n",
      "\u001b[0;32m<ipython-input-56-6053c3e4db1b>\u001b[0m in \u001b[0;36mrouting\u001b[0;34m(nodoPrev, nodoAtual, origem, destino)\u001b[0m\n\u001b[1;32m     30\u001b[0m         \u001b[0;32mfor\u001b[0m \u001b[0me\u001b[0m \u001b[0;32min\u001b[0m \u001b[0morigem\u001b[0m\u001b[0;34m.\u001b[0m\u001b[0medges\u001b[0m\u001b[0;34m:\u001b[0m\u001b[0;34m\u001b[0m\u001b[0m\n\u001b[1;32m     31\u001b[0m             \u001b[0medge\u001b[0m \u001b[0;34m=\u001b[0m \u001b[0mnodes\u001b[0m\u001b[0;34m[\u001b[0m\u001b[0me\u001b[0m\u001b[0;34m]\u001b[0m\u001b[0;34m\u001b[0m\u001b[0m\n\u001b[0;32m---> 32\u001b[0;31m             \u001b[0mretorno\u001b[0m \u001b[0;34m=\u001b[0m \u001b[0mrouting\u001b[0m\u001b[0;34m(\u001b[0m\u001b[0mnodoAtual\u001b[0m\u001b[0;34m,\u001b[0m \u001b[0medge\u001b[0m\u001b[0;34m,\u001b[0m \u001b[0morigem\u001b[0m\u001b[0;34m,\u001b[0m \u001b[0mdestino\u001b[0m\u001b[0;34m)\u001b[0m\u001b[0;34m\u001b[0m\u001b[0m\n\u001b[0m\u001b[1;32m     33\u001b[0m     \u001b[0;32melse\u001b[0m\u001b[0;34m:\u001b[0m\u001b[0;34m\u001b[0m\u001b[0m\n\u001b[1;32m     34\u001b[0m         \u001b[0;32mif\u001b[0m \u001b[0mnodoAtual\u001b[0m \u001b[0;34m==\u001b[0m \u001b[0mdestino\u001b[0m\u001b[0;34m:\u001b[0m\u001b[0;34m\u001b[0m\u001b[0m\n",
      "\u001b[0;32m<ipython-input-56-6053c3e4db1b>\u001b[0m in \u001b[0;36mrouting\u001b[0;34m(nodoPrev, nodoAtual, origem, destino)\u001b[0m\n\u001b[1;32m     48\u001b[0m                     \u001b[0medge\u001b[0m \u001b[0;34m=\u001b[0m \u001b[0mnodes\u001b[0m\u001b[0;34m[\u001b[0m\u001b[0me\u001b[0m\u001b[0;34m]\u001b[0m\u001b[0;34m\u001b[0m\u001b[0m\n\u001b[1;32m     49\u001b[0m                     \u001b[0mretorno\u001b[0m \u001b[0;34m=\u001b[0m \u001b[0mrouting\u001b[0m\u001b[0;34m(\u001b[0m\u001b[0mnodoAtual\u001b[0m\u001b[0;34m,\u001b[0m \u001b[0medge\u001b[0m\u001b[0;34m,\u001b[0m \u001b[0morigem\u001b[0m\u001b[0;34m,\u001b[0m \u001b[0mdestino\u001b[0m\u001b[0;34m)\u001b[0m\u001b[0;34m\u001b[0m\u001b[0m\n\u001b[0;32m---> 50\u001b[0;31m     \u001b[0;32mreturn\u001b[0m \u001b[0mretorno\u001b[0m\u001b[0;34m\u001b[0m\u001b[0m\n\u001b[0m\u001b[1;32m     51\u001b[0m \u001b[0;34m\u001b[0m\u001b[0m\n\u001b[1;32m     52\u001b[0m \u001b[0;34m\u001b[0m\u001b[0m\n",
      "\u001b[0;31mUnboundLocalError\u001b[0m: local variable 'retorno' referenced before assignment"
     ]
    }
   ],
   "source": [
    "def test_routing():\n",
    "    '''Teste para o Roteamento AODV '''\n",
    "    # De 1 para 5\n",
    "    \n",
    "    totalHops = 10\n",
    "\n",
    "    nulo = Node(0, ())\n",
    "    hops = 0\n",
    "    seq  = 1\n",
    "    nodes = {\n",
    "        1: Node(1, grafo[1]),\n",
    "        2: Node(2, grafo[2]),\n",
    "        3: Node(3, grafo[3]),\n",
    "        4: Node(4, grafo[4]),\n",
    "        5: Node(5, grafo[5]),\n",
    "    }\n",
    "    \n",
    "    print(nodes[1])\n",
    "\n",
    "    assert routing(nulo, nodes[1], nodes[1], nodes[5]) == 1\n",
    "\n",
    "test_routing()"
   ]
  },
  {
   "cell_type": "code",
   "execution_count": 0,
   "metadata": {
    "colab": {
     "autoexec": {
      "startup": false,
      "wait_interval": 0
     }
    },
    "colab_type": "code",
    "id": "zsorirebvXFZ"
   },
   "outputs": [],
   "source": []
  },
  {
   "cell_type": "code",
   "execution_count": 0,
   "metadata": {
    "colab": {
     "autoexec": {
      "startup": false,
      "wait_interval": 0
     }
    },
    "colab_type": "code",
    "id": "tHa02NvpvXCA"
   },
   "outputs": [],
   "source": []
  },
  {
   "cell_type": "code",
   "execution_count": 0,
   "metadata": {
    "colab": {
     "autoexec": {
      "startup": false,
      "wait_interval": 0
     }
    },
    "colab_type": "code",
    "id": "X7vkMRMLvW6K"
   },
   "outputs": [],
   "source": []
  },
  {
   "cell_type": "code",
   "execution_count": 0,
   "metadata": {
    "colab": {
     "autoexec": {
      "startup": false,
      "wait_interval": 0
     }
    },
    "colab_type": "code",
    "id": "pcSlCCQgFqTX"
   },
   "outputs": [],
   "source": []
  },
  {
   "cell_type": "markdown",
   "metadata": {
    "colab_type": "text",
    "id": "-KMMlTBfvN3S"
   },
   "source": [
    "## Fase 1 - Concluída (O pacote se replica pela rede) "
   ]
  },
  {
   "cell_type": "code",
   "execution_count": 2,
   "metadata": {
    "colab": {
     "autoexec": {
      "startup": false,
      "wait_interval": 0
     },
     "base_uri": "https://localhost:8080/",
     "height": 192
    },
    "colab_type": "code",
    "executionInfo": {
     "elapsed": 552,
     "status": "ok",
     "timestamp": 1529102060840,
     "user": {
      "displayName": "Tiarles Guterres",
      "photoUrl": "//lh5.googleusercontent.com/-C2Cbsg70KoA/AAAAAAAAAAI/AAAAAAAADDw/-P2a-mXJk_8/s50-c-k-no/photo.jpg",
      "userId": "103221925810470960539"
     },
     "user_tz": 180
    },
    "id": "1gehW-62IPJ4",
    "outputId": "3d1dbed2-20b5-4435-85c6-2101d47f4982"
   },
   "outputs": [
    {
     "data": {
      "image/png": "[encoded data removed]",
      "text/plain": [
       "<matplotlib.figure.Figure at 0x7fc87d345250>"
      ]
     },
     "metadata": {
      "tags": []
     },
     "output_type": "display_data"
    }
   ],
   "source": [
    "grafo = {\n",
    "    1: (2, 4),\n",
    "    2: (1, 3),\n",
    "    3: (2, 5),\n",
    "    4: (1, 5),\n",
    "    5: (3, 4)\n",
    "}\n",
    "\n",
    "# https://networkx.github.io/documentation/stable/tutorial.html\n",
    "\n",
    "edges = generateEdges(grafo)\n",
    "plt.figure(figsize=(5,2))\n",
    "G = nx.Graph()\n",
    "G.add_nodes_from(grafo.keys())\n",
    "G.add_edges_from(edges)\n",
    "nx.draw(G, with_labels=True, pos={1: (0, 0), 2: (1.4,1), 3: (2.6,1), 4: (2,-1), 5: (4, 0)})\n",
    "plt.show()"
   ]
  },
  {
   "cell_type": "code",
   "execution_count": 0,
   "metadata": {
    "colab": {
     "autoexec": {
      "startup": false,
      "wait_interval": 0
     }
    },
    "colab_type": "code",
    "id": "OiY-BB04QXLE"
   },
   "outputs": [],
   "source": [
    "# 'E' = edges\n",
    "# 'D' = destino\n",
    "# 'N' = next\n",
    "# 'H' = hops\n",
    "# 'S' = sequence \n",
    "\n",
    "class Node:\n",
    "    def __init__(self, id, edges):\n",
    "        self.id = id\n",
    "        self.edges = edges\n",
    "        self.dest = []\n",
    "        self.next = []\n",
    "        self.hops = []\n",
    "        self.sequ = []\n",
    "    \n",
    "def routing(nodoPrev, nodoAtual, origem, destino):\n",
    "    #check the edges\n",
    "    global nodes\n",
    "    global totalHops\n",
    "    \n",
    "    string = \"Ant = %d | Atual = %d | Origem = %d | Destino = %d\"\n",
    "    print(string % (nodoPrev.id, nodoAtual.id, origem.id, destino.id))\n",
    "    \n",
    "    if nodoPrev.id == 0:\n",
    "        for e in origem.edges:\n",
    "            edge = nodes[e]\n",
    "            retorno = routing(nodoAtual, edge, origem, destino)\n",
    "    else:\n",
    "        if nodoAtual == destino:\n",
    "            retorno = 1\n",
    "            print \"Achado o nodo (RREP)\"\n",
    "        else:\n",
    "            if totalHops != 0:\n",
    "                totalHops -= 1\n",
    "                edges_list = list(nodoAtual.edges)\n",
    "                edges_list.remove(nodoPrev.id)\n",
    "                for e in edges_list:\n",
    "                    edge = nodes[e]\n",
    "                    retorno = routing(nodoAtual, edge, origem, destino)\n",
    "    return retorno\n",
    "                \n",
    "        \n",
    "totalHops = 10\n",
    "\n",
    "nulo = Node(0, ())\n",
    "\n",
    "nodes = {\n",
    "    1: Node(1, grafo[1]),\n",
    "    2: Node(2, grafo[2]),\n",
    "    3: Node(3, grafo[3]),\n",
    "    4: Node(4, grafo[4]),\n",
    "    5: Node(5, grafo[5]),\n",
    "}"
   ]
  },
  {
   "cell_type": "code",
   "execution_count": 16,
   "metadata": {
    "colab": {
     "autoexec": {
      "startup": false,
      "wait_interval": 0
     },
     "base_uri": "https://localhost:8080/",
     "height": 161
    },
    "colab_type": "code",
    "executionInfo": {
     "elapsed": 527,
     "status": "ok",
     "timestamp": 1528920191794,
     "user": {
      "displayName": "Tiarles Guterres",
      "photoUrl": "//lh5.googleusercontent.com/-C2Cbsg70KoA/AAAAAAAAAAI/AAAAAAAADDw/-P2a-mXJk_8/s50-c-k-no/photo.jpg",
      "userId": "103221925810470960539"
     },
     "user_tz": 180
    },
    "id": "FUaKcxQqjMsI",
    "outputId": "5b75a552-25c9-4dab-9bcc-f3e9253418d6"
   },
   "outputs": [
    {
     "name": "stdout",
     "output_type": "stream",
     "text": [
      "Ant = 0 | Atual = 1 | Origem = 1 | Destino = 5\n",
      "Ant = 1 | Atual = 2 | Origem = 1 | Destino = 5\n",
      "Ant = 2 | Atual = 3 | Origem = 1 | Destino = 5\n",
      "Ant = 3 | Atual = 5 | Origem = 1 | Destino = 5\n",
      "Achado o nodo (RREP)\n",
      "Ant = 1 | Atual = 4 | Origem = 1 | Destino = 5\n",
      "Ant = 4 | Atual = 5 | Origem = 1 | Destino = 5\n",
      "Achado o nodo (RREP)\n"
     ]
    }
   ],
   "source": [
    "def test_routing():\n",
    "    '''Teste para o Roteamento AODV '''\n",
    "    # De 1 para 5\n",
    "    assert routing(nulo, nodes[1], nodes[1], nodes[5]) == 1\n",
    "\n",
    "test_routing()"
   ]
  },
  {
   "cell_type": "markdown",
   "metadata": {
    "colab_type": "text",
    "id": "-cAn6NYFDHvN"
   },
   "source": [
    "## Restos"
   ]
  },
  {
   "cell_type": "code",
   "execution_count": 0,
   "metadata": {
    "colab": {
     "autoexec": {
      "startup": false,
      "wait_interval": 0
     }
    },
    "colab_type": "code",
    "id": "HWGJ4VcGFqa-"
   },
   "outputs": [],
   "source": [
    "import numpy as np\n",
    "import matplotlib.pyplot as plt\n",
    "import pandas as pd\n",
    "\n",
    "import networkx as nx\n",
    "\n",
    "import time"
   ]
  },
  {
   "cell_type": "code",
   "execution_count": 0,
   "metadata": {
    "colab": {
     "autoexec": {
      "startup": false,
      "wait_interval": 0
     }
    },
    "colab_type": "code",
    "id": "2ebbd0DCFqYs"
   },
   "outputs": [],
   "source": [
    "def set_nodes(num_nodes):\n",
    "    ret = {}\n",
    "    for i in range(1, num_nodes + 1):\n",
    "        ret[i] = Node(i, num_nodes)\n",
    "    return ret\n",
    "\n",
    "class Node:\n",
    "    def __init__(self, id, num_nodes):\n",
    "        self.id = id\n",
    "        self.dest_table = {}\n",
    "    \n",
    "    def send(self, destino, data):\n",
    "        if destino in self.dest_table:\n",
    "            print 'Temos um caminho, enviar ao próximo nó'\n",
    "        \n",
    "class Grafo:\n",
    "    def __init__(self, num_nodes, dict_grafo):\n",
    "        self.nodos     = get_nodes(num_nodes)\n",
    "        self.dict_grafo = dict_grafo\n",
    "  \n",
    "    def get_node(self, id):\n",
    "        return self.nodos[id]\n",
    "\n",
    "    def transmission(self, origem, destino, data):\n",
    "        nodo_origem  = self.get_node[origem]\n",
    "        #nodo_destino = self.get_node[destino]\n",
    "        \n",
    "        nodo_origem.send(destino, data)"
   ]
  },
  {
   "cell_type": "code",
   "execution_count": 5,
   "metadata": {
    "colab": {
     "autoexec": {
      "startup": false,
      "wait_interval": 0
     },
     "base_uri": "https://localhost:8080/",
     "height": 226
    },
    "colab_type": "code",
    "executionInfo": {
     "elapsed": 848,
     "status": "error",
     "timestamp": 1528919665780,
     "user": {
      "displayName": "Tiarles Guterres",
      "photoUrl": "//lh5.googleusercontent.com/-C2Cbsg70KoA/AAAAAAAAAAI/AAAAAAAADDw/-P2a-mXJk_8/s50-c-k-no/photo.jpg",
      "userId": "103221925810470960539"
     },
     "user_tz": 180
    },
    "id": "897VHDO8MbY_",
    "outputId": "6144ccc9-9e3c-47b9-a7ae-d8f6b832f048"
   },
   "outputs": [
    {
     "ename": "NameError",
     "evalue": "ignored",
     "output_type": "error",
     "traceback": [
      "\u001b[0;31m\u001b[0m",
      "\u001b[0;31mNameError\u001b[0mTraceback (most recent call last)",
      "\u001b[0;32m<ipython-input-5-6a1cb1428b75>\u001b[0m in \u001b[0;36m<module>\u001b[0;34m()\u001b[0m\n\u001b[1;32m     15\u001b[0m     \u001b[0;32massert\u001b[0m \u001b[0mgrafo\u001b[0m\u001b[0;34m.\u001b[0m\u001b[0mtransmission\u001b[0m\u001b[0;34m(\u001b[0m\u001b[0;36m1\u001b[0m\u001b[0;34m,\u001b[0m \u001b[0;36m2\u001b[0m\u001b[0;34m,\u001b[0m \u001b[0;34m\"xBA\"\u001b[0m\u001b[0;34m)\u001b[0m \u001b[0;34m==\u001b[0m \u001b[0;36m1\u001b[0m\u001b[0;34m\u001b[0m\u001b[0m\n\u001b[1;32m     16\u001b[0m \u001b[0;34m\u001b[0m\u001b[0m\n\u001b[0;32m---> 17\u001b[0;31m \u001b[0mtestGraph_transmission\u001b[0m\u001b[0;34m(\u001b[0m\u001b[0;34m)\u001b[0m\u001b[0;34m\u001b[0m\u001b[0m\n\u001b[0m\u001b[1;32m     18\u001b[0m \u001b[0;34m\u001b[0m\u001b[0m\n",
      "\u001b[0;31mNameError\u001b[0m: name 'testGraph_transmission' is not defined"
     ]
    }
   ],
   "source": [
    "def test_Graph_transmission():\n",
    "    grafo = Graph()\n",
    "    assert grafo.transmission(1, 2, \"xBA\") == 1\n",
    "    \n",
    "def test_Node_send():\n",
    "    grafo = {\n",
    "        1: (2,3),\n",
    "        2: (1),\n",
    "        3: (1)\n",
    "    }\n",
    "    \n",
    "    nodes = [Node(1), Node(2), Node(3)]\n",
    "    \n",
    "    grafo = Graph()\n",
    "    assert grafo.transmission(1, 2, \"xBA\") == 1\n",
    "\n",
    "testGraph_transmission()\n",
    "    "
   ]
  },
  {
   "cell_type": "code",
   "execution_count": 0,
   "metadata": {
    "colab": {
     "autoexec": {
      "startup": false,
      "wait_interval": 0
     }
    },
    "colab_type": "code",
    "id": "gj_cjYJ7FqWE"
   },
   "outputs": [],
   "source": [
    "nodos = set_nodes(4)\n",
    "grafo = {\n",
    "    1: (2),\n",
    "    2: (1, 3, 4),\n",
    "    3: (2, 4),\n",
    "    4: (2, 3)\n",
    "}"
   ]
  },
  {
   "cell_type": "code",
   "execution_count": 0,
   "metadata": {
    "colab": {
     "autoexec": {
      "startup": false,
      "wait_interval": 0
     }
    },
    "colab_type": "code",
    "id": "WszmjR1Qte7J"
   },
   "outputs": [],
   "source": []
  },
  {
   "cell_type": "code",
   "execution_count": 0,
   "metadata": {
    "colab": {
     "autoexec": {
      "startup": false,
      "wait_interval": 0
     }
    },
    "colab_type": "code",
    "id": "3fT9T6CVtezV"
   },
   "outputs": [],
   "source": []
  },
  {
   "cell_type": "code",
   "execution_count": 0,
   "metadata": {
    "colab": {
     "autoexec": {
      "startup": false,
      "wait_interval": 0
     }
    },
    "colab_type": "code",
    "id": "FMjh1Bcoterg"
   },
   "outputs": [],
   "source": []
  },
  {
   "cell_type": "code",
   "execution_count": 0,
   "metadata": {
    "colab": {
     "autoexec": {
      "startup": false,
      "wait_interval": 0
     }
    },
    "colab_type": "code",
    "id": "ROo4qvbjwfZ7"
   },
   "outputs": [],
   "source": [
    "def make_matrix(nodes):\n",
    "    max_key = np.max(nodes.keys())\n",
    "    matrix = np.zeros((max_key, max_key))\n",
    "    \n",
    "    for key, node in zip(nodes.keys(), nodes.values()):\n",
    "        node = np.array(node)\n",
    "        matrix[key-1, node-1] = 1\n",
    "        \n",
    "    return matrix\n",
    "\n",
    "def generateRandomGraph(n_nodos, n_max_lig):\n",
    "    nodos = np.linspace(1, n_nodos, n_nodos, dtype=int)\n",
    "    nodos_sh = nodos.copy()\n",
    "    np.random.choice(nodos_sh)\n",
    "\n",
    "    dict_nodos = {}\n",
    "\n",
    "    for nodo in nodos:\n",
    "        n_lig = np.random.randint(1, n_max_lig + 1)\n",
    "        np.random.shuffle(nodos_sh)\n",
    "        while np.any(nodos_sh[:n_lig] == nodo):\n",
    "            np.random.shuffle(nodos_sh)\n",
    "        lig = nodos_sh[:n_lig]\n",
    "        dict_nodos[nodo] = tuple(lig)\n",
    "    return dict_nodos\n",
    "\n",
    "def generateEdges(nodes):\n",
    "    all_conex = []\n",
    "    for node in reversed(nodes.keys()):\n",
    "        for nodeb in nodes[node]:\n",
    "            all_conex.append((node, nodeb))\n",
    "    return all_conex"
   ]
  },
  {
   "cell_type": "code",
   "execution_count": 0,
   "metadata": {
    "colab": {
     "autoexec": {
      "startup": false,
      "wait_interval": 0
     }
    },
    "colab_type": "code",
    "id": "GXpbVp85wfZ9"
   },
   "outputs": [],
   "source": [
    "nodes = {\n",
    "    1: (2, 3, 4),\n",
    "    2: (1, 5),\n",
    "    3: (1, 5),\n",
    "    4: (1, 6),\n",
    "    5: (2, 3, 7),\n",
    "    6: (4, 8),\n",
    "    7: (5, 8),\n",
    "    8: (6, 7)\n",
    "}\n",
    "\n",
    "# print(make_matrix(nodes))\n",
    "# graph = generateRandomGraph(100, 5)\n",
    "# print make_matrix(graph)"
   ]
  },
  {
   "cell_type": "code",
   "execution_count": 19,
   "metadata": {
    "colab": {
     "autoexec": {
      "startup": false,
      "wait_interval": 0
     },
     "base_uri": "https://localhost:8080/",
     "height": 444
    },
    "colab_type": "code",
    "executionInfo": {
     "elapsed": 979,
     "status": "ok",
     "timestamp": 1528898371972,
     "user": {
      "displayName": "Tiarles Guterres",
      "photoUrl": "//lh5.googleusercontent.com/-C2Cbsg70KoA/AAAAAAAAAAI/AAAAAAAADDw/-P2a-mXJk_8/s50-c-k-no/photo.jpg",
      "userId": "103221925810470960539"
     },
     "user_tz": 180
    },
    "id": "RO_ndBm_wfaC",
    "outputId": "3c2d0ad5-32d9-486d-fdce-9927dca67ba2"
   },
   "outputs": [
    {
     "data": {
      "image/png": "[encoded data removed]",
      "text/plain": [
       "<matplotlib.figure.Figure at 0x7fd340c6d150>"
      ]
     },
     "metadata": {
      "tags": []
     },
     "output_type": "display_data"
    }
   ],
   "source": [
    "# https://networkx.github.io/documentation/stable/tutorial.html\n",
    "\n",
    "edges = generateEdges(nodes)\n",
    "\n",
    "G = nx.Graph()\n",
    "G.add_nodes_from(nodes.keys())\n",
    "G.add_edges_from(edges)\n",
    "nx.draw(G, with_labels=True, font_weight='bold')\n",
    "plt.show()"
   ]
  },
  {
   "cell_type": "code",
   "execution_count": 0,
   "metadata": {
    "colab": {
     "autoexec": {
      "startup": false,
      "wait_interval": 0
     }
    },
    "colab_type": "code",
    "id": "tUklLE4ewfaG"
   },
   "outputs": [],
   "source": [
    "# Aplicação do modelo de Roteamento DSR"
   ]
  },
  {
   "cell_type": "code",
   "execution_count": 0,
   "metadata": {
    "colab": {
     "autoexec": {
      "startup": false,
      "wait_interval": 0
     }
    },
    "colab_type": "code",
    "id": "1kugMWb7wfaI"
   },
   "outputs": [],
   "source": [
    "# Aplicação do modelo de Roteamento AODV"
   ]
  },
  {
   "cell_type": "code",
   "execution_count": 0,
   "metadata": {
    "colab": {
     "autoexec": {
      "startup": false,
      "wait_interval": 0
     }
    },
    "colab_type": "code",
    "id": "_zxmXJIHwfaK"
   },
   "outputs": [],
   "source": [
    "# Aplicação do modelo de Roteamento SAODV"
   ]
  },
  {
   "cell_type": "code",
   "execution_count": 0,
   "metadata": {
    "colab": {
     "autoexec": {
      "startup": false,
      "wait_interval": 0
     }
    },
    "colab_type": "code",
    "id": "qB5cryiowfaN"
   },
   "outputs": [],
   "source": [
    "# Aplicação do modelo de Roteamento Ariadne"
   ]
  },
  {
   "cell_type": "code",
   "execution_count": 0,
   "metadata": {
    "colab": {
     "autoexec": {
      "startup": false,
      "wait_interval": 0
     }
    },
    "colab_type": "code",
    "id": "9VYFa3STvQW7"
   },
   "outputs": [],
   "source": []
  },
  {
   "cell_type": "code",
   "execution_count": 0,
   "metadata": {
    "colab": {
     "autoexec": {
      "startup": false,
      "wait_interval": 0
     }
    },
    "colab_type": "code",
    "id": "mJba0ix5FGZ8"
   },
   "outputs": [],
   "source": []
  },
  {
   "cell_type": "code",
   "execution_count": 0,
   "metadata": {
    "colab": {
     "autoexec": {
      "startup": false,
      "wait_interval": 0
     }
    },
    "colab_type": "code",
    "id": "5tRR0B9mvbHP"
   },
   "outputs": [],
   "source": []
  },
  {
   "cell_type": "code",
   "execution_count": 0,
   "metadata": {
    "colab": {
     "autoexec": {
      "startup": false,
      "wait_interval": 0
     }
    },
    "colab_type": "code",
    "id": "ul12vNcJly0G"
   },
   "outputs": [],
   "source": [
    "def get_nodes(num_nodes):\n",
    "    ret = {}\n",
    "    for i in range(1, num_nodes + 1):\n",
    "        ret[i] = Node(i, num_nodes)\n",
    "    return ret\n",
    "\n",
    "class Node:\n",
    "    def __init__(self, id, num_nodes):\n",
    "        self.id = id\n",
    "        self.dest_table = {}\n",
    "        \n",
    "        \n",
    "class Grafo:\n",
    "    def __init__(self, num_nodes, dict_grafo):\n",
    "        self.nodos     = get_nodes(num_nodes)\n",
    "        self.dict_grafo = dict_grafo\n",
    "  \n",
    "    def transmission(origem, destino, grafo, nodos):\n",
    "        print \"Transmissão de %d para %d!\" % (origem, destino)\n",
    "    \n",
    "        # Procura o caminho na tabela do nodo 1\n",
    "        nodo_atual = origem\n",
    "        while destino in nodos[nodo_atual].dest_table.keys() and nodo_atual != destino:\n",
    "            prox_nodo = nodos[nodo_atual].dest_table[destino]\n",
    "            print \"De %d para %d\" % (nodo_atual, prox_nodo)\n",
    "            nodo_atual = prox_nodo\n",
    "    \n",
    "        # Realização de um Rota Request\n",
    "    \n",
    "    \n",
    "        if nodo_atual == destino:\n",
    "            print \"\\nConcluido com sucesso!\"\n",
    "        else:\n",
    "            print \"\\nProblemas ao enviar!\""
   ]
  },
  {
   "cell_type": "code",
   "execution_count": 0,
   "metadata": {
    "colab": {
     "autoexec": {
      "startup": false,
      "wait_interval": 0
     }
    },
    "colab_type": "code",
    "id": "rPo6c-PplXxc"
   },
   "outputs": [],
   "source": [
    "nodos = get_nodes(4)\n",
    "grafo = {\n",
    "    1: (2),\n",
    "    2: (1, 3, 4),\n",
    "    3: (2, 4),\n",
    "    4: (2, 3)\n",
    "}"
   ]
  },
  {
   "cell_type": "code",
   "execution_count": 0,
   "metadata": {
    "colab": {
     "autoexec": {
      "startup": false,
      "wait_interval": 0
     },
     "base_uri": "https://localhost:8080/",
     "height": 161
    },
    "colab_type": "code",
    "executionInfo": {
     "elapsed": 630,
     "status": "ok",
     "timestamp": 1527814894167,
     "user": {
      "displayName": "Tiarles Guterres",
      "photoUrl": "//lh5.googleusercontent.com/-C2Cbsg70KoA/AAAAAAAAAAI/AAAAAAAADDw/-P2a-mXJk_8/s50-c-k-no/photo.jpg",
      "userId": "103221925810470960539"
     },
     "user_tz": 180
    },
    "id": "YB8RSGyZoDzk",
    "outputId": "65ab2275-5385-44bb-defa-45cfc88c757b"
   },
   "outputs": [
    {
     "name": "stdout",
     "output_type": "stream",
     "text": [
      "Transmissão de 1 para 3!\n",
      "\n",
      "Problemas ao enviar!\n",
      "\n",
      "Para checar os valores nas tabelas:\n",
      "{4: 2}\n",
      "{4: 3}\n",
      "{4: 4}\n"
     ]
    }
   ],
   "source": [
    "def transmission(origem, destino, grafo, nodos):\n",
    "    print \"Transmissão de %d para %d!\" % (origem, destino)\n",
    "    \n",
    "    # Procura o caminho na tabela do nodo 1\n",
    "    nodo_atual = origem\n",
    "    while destino in nodos[nodo_atual].dest_table.keys() and nodo_atual != destino:\n",
    "        prox_nodo = nodos[nodo_atual].dest_table[destino]\n",
    "        print \"De %d para %d\" % (nodo_atual, prox_nodo)\n",
    "        nodo_atual = prox_nodo\n",
    "    \n",
    "    # Realização de um Rota Request\n",
    "    \n",
    "    \n",
    "    if nodo_atual == destino:\n",
    "        print \"\\nConcluido com sucesso!\"\n",
    "    else:\n",
    "        print \"\\nProblemas ao enviar!\"\n",
    "    \n",
    "nodos[1].dest_table[4] = 2\n",
    "nodos[2].dest_table[4] = 3\n",
    "nodos[3].dest_table[4] = 4\n",
    "\n",
    "transmission(1, 3, grafo, nodos)\n",
    "\n",
    "print \"\\nPara checar os valores nas tabelas:\"\n",
    "\n",
    "print nodos[1].dest_table\n",
    "print nodos[2].dest_table\n",
    "print nodos[3].dest_table"
   ]
  },
  {
   "cell_type": "code",
   "execution_count": 0,
   "metadata": {
    "colab": {
     "autoexec": {
      "startup": false,
      "wait_interval": 0
     }
    },
    "colab_type": "code",
    "id": "ViW0ZTAApurO"
   },
   "outputs": [],
   "source": [
    "nodos[1].dest_table[4] = 2"
   ]
  },
  {
   "cell_type": "code",
   "execution_count": 0,
   "metadata": {
    "colab": {
     "autoexec": {
      "startup": false,
      "wait_interval": 0
     }
    },
    "colab_type": "code",
    "id": "StzU2cXTFqDk"
   },
   "outputs": [],
   "source": [
    "seq = 0\n",
    "\n",
    "class Node:\n",
    "    def __init__(self, id):\n",
    "        self.id = id\n",
    "    \n",
    "class Graph:\n",
    "    def __init__(self):\n",
    "        pass\n",
    "#     def __init__(self, graph, nodes):\n",
    "#         self.dict_graph = graph\n",
    "#         self.dict_nodes = nodes\n",
    "       \n",
    "    def transmission(self, origem, destino, data):\n",
    "        '''X'''\n",
    "        nodo_origem = self.getNode(origem)\n",
    "        \n",
    "        nodo_origem\n",
    "        \n",
    "        "
   ]
  }
 ],
 "metadata": {
  "colab": {
   "collapsed_sections": [],
   "default_view": {},
   "name": "Skecth__parcial_avaliation_2.ipynb",
   "provenance": [],
   "version": "0.3.2",
   "views": {}
  },
  "kernelspec": {
   "display_name": "Python 3",
   "language": "python",
   "name": "python3"
  },
  "language_info": {
   "codemirror_mode": {
    "name": "ipython",
    "version": 3
   },
   "file_extension": ".py",
   "mimetype": "text/x-python",
   "name": "python",
   "nbconvert_exporter": "python",
   "pygments_lexer": "ipython3",
   "version": "3.6.6"
  }
 },
 "nbformat": 4,
 "nbformat_minor": 1
}
