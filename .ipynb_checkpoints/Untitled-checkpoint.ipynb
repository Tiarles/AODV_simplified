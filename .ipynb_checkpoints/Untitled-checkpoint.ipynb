{
 "cells": [
  {
   "cell_type": "code",
   "execution_count": 10,
   "metadata": {},
   "outputs": [],
   "source": [
    "from threading import Thread "
   ]
  },
  {
   "cell_type": "code",
   "execution_count": 48,
   "metadata": {},
   "outputs": [],
   "source": [
    "def setNodes(grafo):\n",
    "    return {key: Node(key, list(value)) for key, value in grafo.items()}\n",
    "\n",
    "# VAI BRAZILIAM!!!\n",
    "\n",
    "def transmission(grafo, origem_id, destino_id, data):\n",
    "    nodo_origem = grafo[origem_id]\n",
    "    nodo_origem.transmission()\n",
    "\n",
    "class Node(Thread):\n",
    "    def __init__(self, id, edges):\n",
    "        Thread.__init__(self)\n",
    "        self.active   = False\n",
    "        self.nextDest = {}\n",
    "        self.id       = id \n",
    "        self.edges    = edges\n",
    "        \n",
    "        self.data     = 0\n",
    "        ##########################\n",
    "        self.arg_data = 0\n",
    "        self.arg_destino_id = 0\n",
    "        \n",
    "    def run(self):\n",
    "        if self.id == self.destino_id: # Here is the destiny\n",
    "            data = arg_data\n",
    "            print(\"Comunicação realizada com sucesso\")\n",
    "        else: # Here isn't the destiny    \n",
    "            if destino_id is nextDest:\n",
    "                nodo_next = nextDest[destino_id]\n",
    "                nodo_next.transmission(destino_id, data)\n",
    "            else: # Make a RREQ\n",
    "                \n",
    "                for edge in edges:\n",
    "                    nodo_next\n",
    "                    transmission()\n",
    "    \n",
    "    def activeNode(self):\n",
    "        self.active = True\n",
    "        return\n",
    "    \n",
    "    def inactiveNode(self):\n",
    "        self.active = False\n",
    "        return\n",
    "        \n",
    "    def isActiveNode(self):\n",
    "        return self.active\n",
    "    \n",
    "    def addNextDest(self, dest, _next, hops, seq):\n",
    "        if dest is not self.nextDest or seq > self.nextDest[dest]['seq']:\n",
    "            self.nextDest[dest] = {'next': _next, \n",
    "                                   'hops': hops, \n",
    "                                   'seq': seq\n",
    "                                  }\n",
    "            print(\"TMP: mod na tabela de %d para %d\" % (self.id, dest))\n",
    "            return 1\n",
    "        else:\n",
    "            print(\"TMP: Nao foi possivel escrever\")\n",
    "            return 0\n",
    "\n",
    "    def transmission(self, destino_id, data):\n",
    "        self.data = data\n",
    "        self.destion_id = destino_id\n",
    "        self.start()\n",
    "        return\n",
    "        \n",
    "    "
   ]
  },
  {
   "cell_type": "code",
   "execution_count": 53,
   "metadata": {},
   "outputs": [],
   "source": [
    "grafos = [{\n",
    "    1: [2],\n",
    "    2: [1, 3],\n",
    "    3: [2, 4],\n",
    "    4: [3]\n",
    "}]\n",
    "\n",
    "grafo = setNodes(grafos[0])"
   ]
  },
  {
   "cell_type": "code",
   "execution_count": null,
   "metadata": {},
   "outputs": [],
   "source": [
    "transmission(grafo, 1, 4)"
   ]
  },
  {
   "cell_type": "code",
   "execution_count": 55,
   "metadata": {},
   "outputs": [],
   "source": [
    "Thread.start?"
   ]
  },
  {
   "cell_type": "markdown",
   "metadata": {},
   "source": [
    "# Branch"
   ]
  },
  {
   "cell_type": "code",
   "execution_count": null,
   "metadata": {},
   "outputs": [],
   "source": [
    "from threading import Thread "
   ]
  },
  {
   "cell_type": "code",
   "execution_count": null,
   "metadata": {},
   "outputs": [],
   "source": [
    "def setNodes(grafo):\n",
    "    return {key: Node(key, list(value)) for key, value in grafo.items()}\n",
    "\n",
    "# VAI BRAZILIAM!!!\n",
    "\n",
    "def transmission(grafo, origem_id, destino_id, data):\n",
    "    nodo_origem = grafo[origem_id]\n",
    "    nodo_origem.transmission()\n",
    "\n",
    "class Node:\n",
    "    def __init__(self, id, edges):\n",
    "        self.id       = id\n",
    "        self.edges    = edges\n",
    "        self.nextDest = {}\n",
    "        \n",
    "        self.data     = 0        \n",
    "        self.seq      = 0\n",
    "        \n",
    "    def addNextDest(self, dest, _next, hops, seq):\n",
    "        if dest is not self.nextDest or seq > self.nextDest[dest]['seq']:\n",
    "            self.nextDest[dest] = {'next': _next, \n",
    "                                   'hops': hops, \n",
    "                                   'seq': seq\n",
    "                                  }\n",
    "            print(\"TMP: mod na tabela de %d para %d\" % (self.id, dest))\n",
    "            return 1\n",
    "        else:\n",
    "            print(\"TMP: Nao foi possivel escrever\")\n",
    "            return 0\n",
    "    \n",
    "    def transmission(self, nodes, nodo, destino_id, data):\n",
    "        if self.id == destino_id: # Here is the destiny\n",
    "            self.data = data\n",
    "            print(\"TMP: Comunicação realizada com sucesso\")\n",
    "        else: # Here isn't the destiny    \n",
    "            if destino_id is nextDest:\n",
    "                nodo_next_id = nextDest[destino_id]\n",
    "                nodo_next = nodes[nodo_next_id] \n",
    "                nodo_next.transmission(destino_id, data)\n",
    "            else: # Make a RREQ\n",
    "                edges_exc = list(edges)\n",
    "                edges_exc.remove()\n",
    "                for edge in edges:\n",
    "                    t = Thread(protocol_RREQ(), args=(,))\n",
    "                    t.start()\n",
    "                    t.join()\n",
    "                #\n",
    "            #\n",
    "    def protocol_RREQ(self, nodoAnt_id, origem, destino, hops, sequence):\n",
    "        hops += 1\n",
    "        \n",
    "        self.addNextDest(destinohops)\n",
    "        \n",
    "        if \n",
    "        return\n"
   ]
  },
  {
   "cell_type": "code",
   "execution_count": 56,
   "metadata": {},
   "outputs": [],
   "source": [
    "grafos = [{\n",
    "    1: [2],\n",
    "    2: [1, 3],\n",
    "    3: [2, 4],\n",
    "    4: [3]\n",
    "}]\n",
    "\n",
    "grafo = grafos[0]"
   ]
  },
  {
   "cell_type": "code",
   "execution_count": null,
   "metadata": {},
   "outputs": [],
   "source": [
    "transmission(grafo, 1, 4)"
   ]
  },
  {
   "cell_type": "markdown",
   "metadata": {},
   "source": [
    "# Branch 3"
   ]
  },
  {
   "cell_type": "code",
   "execution_count": null,
   "metadata": {},
   "outputs": [],
   "source": [
    "from threading import Thread "
   ]
  },
  {
   "cell_type": "code",
   "execution_count": 57,
   "metadata": {},
   "outputs": [
    {
     "ename": "IndentationError",
     "evalue": "expected an indented block (<ipython-input-57-ef59b833dc63>, line 13)",
     "output_type": "error",
     "traceback": [
      "\u001b[0;36m  File \u001b[0;32m\"<ipython-input-57-ef59b833dc63>\"\u001b[0;36m, line \u001b[0;32m13\u001b[0m\n\u001b[0;31m    class Graph:\u001b[0m\n\u001b[0m                ^\u001b[0m\n\u001b[0;31mIndentationError\u001b[0m\u001b[0;31m:\u001b[0m expected an indented block\n"
     ]
    }
   ],
   "source": [
    "def setNodes(grafo):\n",
    "    return {key: Node(key, list(value)) for key, value in grafo.items()}\n",
    "\n",
    "# VAI BRAZILIAM!!!\n",
    "\n",
    "def transmission(grafo, origem_id, destino_id, data):\n",
    "    nodo_origem = grafo[origem_id]\n",
    "    nodo_origem.transmission()\n",
    "\n",
    "class Node:\n",
    "    def __init__(self, id, edges):\n",
    "        self.id       = id\n",
    "        self.edges    = edges\n",
    "        self.nextDest = {}\n",
    "        \n",
    "        self.data     = 0        \n",
    "        self.seq      = 0\n",
    "        \n",
    "    def addNextDest(self, dest, _next, hops, seq):\n",
    "        if dest is not self.nextDest or seq > self.nextDest[dest]['seq']:\n",
    "            self.nextDest[dest] = {'next': _next, \n",
    "                                   'hops': hops, \n",
    "                                   'seq': seq\n",
    "                                  }\n",
    "            print(\"TMP: mod na tabela de %d para %d\" % (self.id, dest))\n",
    "            return 1\n",
    "        else:\n",
    "            print(\"TMP: Nao foi possivel escrever\")\n",
    "            return 0\n",
    "\n",
    "#               |------- int,|-- node,|- list of Node,|--- int,|--- int,|- string\n",
    "def transmission(nodePrev_id, nodeCur,      all_nodes, orig_id, dest_id,     data): \n",
    "    \n",
    "    if nodeCur.id == dest_id: # Here is the destination\n",
    "        self.data = data\n",
    "        print(\"TMP: Comunicação realizada com sucesso\")\n",
    "        \n",
    "    else: # Here isn't the destination  \n",
    "        if destino_id in nodeCur.nextDest:\n",
    "            nodo_next_id = nextDest[destino_id]\n",
    "            nodo_next = all_nodes[nodo_next_id] \n",
    "            transmission(nodeAtual, nodo_next, orig_id, dest_id, data)\n",
    "        else: # Make a RREQ\n",
    "            if nodePrev_id != 0: # Só exclui\n",
    "                edges_exc = list(nodeCur.edges)\n",
    "                edges_exc.remove(nodePrev_id)\n",
    "            for edge_id in edges_exc:\n",
    "                edge = all_nodes[edge_id]\n",
    "                t = Thread(protocol_RREQ(), args=(nodoAnt_id, nodoAtual, origem, destino))\n",
    "                t.start()\n",
    "                t.join()\n",
    "            #\n",
    "        #\n",
    "    #\n",
    "    return\n",
    "\n",
    "def protocol_RREQ(nodoAnt_id, nodoAtual, origem, destino):\n",
    "\n",
    "    nodoAtual.addNextDest(origem, nodoAnt_id, 0, 0)\n",
    "    \n",
    "    for \n",
    "\n",
    "    if \n",
    "    return\n"
   ]
  },
  {
   "cell_type": "code",
   "execution_count": null,
   "metadata": {},
   "outputs": [],
   "source": []
  },
  {
   "cell_type": "code",
   "execution_count": null,
   "metadata": {},
   "outputs": [],
   "source": [
    "####################################################################################################################\n",
    "####################################################################################################################"
   ]
  },
  {
   "cell_type": "code",
   "execution_count": null,
   "metadata": {},
   "outputs": [],
   "source": []
  },
  {
   "cell_type": "code",
   "execution_count": 61,
   "metadata": {},
   "outputs": [],
   "source": [
    "def start_simulation(grafo):\n",
    "    global nodes\n",
    "    nodes = set_nodes(grafo)\n",
    "    \n",
    "def transmission(origem_id, destino_id, data):\n",
    "    node_origem = nodes(origem_id)\n",
    "    graph.transmission(0, origem_id, origem_id, destino_id, data)"
   ]
  },
  {
   "cell_type": "code",
   "execution_count": 58,
   "metadata": {},
   "outputs": [],
   "source": [
    "grafos = [{\n",
    "        1: [2],\n",
    "        2: [1, 3],\n",
    "        3: [2, 4],\n",
    "        4: [3]\n",
    "    }]\n",
    "\n",
    "grafo = grafos[0]\n",
    "\n",
    "###########################\n",
    "    \n",
    "start_simulation(grafo)\n",
    "transmission(origem_id, destino_id, data)"
   ]
  },
  {
   "cell_type": "code",
   "execution_count": 18,
   "metadata": {},
   "outputs": [],
   "source": [
    "from threading import Thread\n",
    "import numpy as np\n",
    "import time"
   ]
  },
  {
   "cell_type": "code",
   "execution_count": null,
   "metadata": {},
   "outputs": [],
   "source": [
    "def protocol_RREQ(nodoAnt_id, nodoAtual, origem, destino):\n",
    "    print nodoAnt_id, nodoAtual, origem, destino\n",
    "    time.sleep(1./1000)\n",
    "    \n",
    "edges_exc = list(range(1024))\n",
    "\n",
    "for edge_id in edges_exc:\n",
    "#     edge = all_nodes[edge_id]\n",
    "    t = Thread(target=protocol_RREQ, args=(edge_id, 2, 4, 4))\n",
    "    t.start()\n",
    "    t.join()"
   ]
  },
  {
   "cell_type": "code",
   "execution_count": null,
   "metadata": {},
   "outputs": [],
   "source": []
  },
  {
   "cell_type": "markdown",
   "metadata": {},
   "source": [
    "# Branch 4"
   ]
  },
  {
   "cell_type": "code",
   "execution_count": 1,
   "metadata": {},
   "outputs": [],
   "source": [
    "from threading import Thread "
   ]
  },
  {
   "cell_type": "code",
   "execution_count": null,
   "metadata": {},
   "outputs": [],
   "source": [
    "def setNodes(grafo):\n",
    "    return {key: Node(key, list(value)) for key, value in grafo.items()}\n",
    "\n",
    "# VAI BRAZILIAM!!!\n",
    "\n",
    "def transmission(grafo, origem_id, destino_id, data):\n",
    "    nodo_origem = grafo[origem_id]\n",
    "    nodo_origem.transmission()\n",
    "\n",
    "class Node:\n",
    "    def __init__(self, id, edges):\n",
    "        self.id       = id\n",
    "        self.edges    = edges\n",
    "        self.nextDest = {}\n",
    "        \n",
    "        self.data     = 0        \n",
    "        self.seq      = 0\n",
    "        \n",
    "    def addNextDest(self, dest, _next, hops, seq):\n",
    "#         if dest is not self.nextDest or seq > self.nextDest[dest]['seq']:\n",
    "        if dest is not self.nextDest:\n",
    "            self.nextDest[dest] = _next\n",
    "            print(\"TMP: mod na tabela de %d para %d\" % (self.id, dest))\n",
    "            return 1\n",
    "        else:\n",
    "            print(\"TMP: Nao foi possivel escrever\")\n",
    "            return 0\n",
    "\n",
    "#               |------- int,|-- node,|- list of Node,|--- int,|--- int,|- string\n",
    "def transmission(nodePrev_id, nodeCur,      all_nodes, orig_id, dest_id,     data): \n",
    "    \n",
    "    if nodeCur.id == dest_id: # Here is the destination\n",
    "        self.data = data\n",
    "        print(\"TMP: Comunicação realizada com sucesso\")\n",
    "        \n",
    "    else: # Here isn't the destination  \n",
    "        if destino_id in nodeCur.nextDest:\n",
    "            nodo_next_id = nextDest[destino_id]\n",
    "            nodo_next = all_nodes[nodo_next_id] \n",
    "            transmission(nodeAtual, nodo_next, orig_id, dest_id, data)\n",
    "        else: # Make a RREQ\n",
    "            for edge_id in edges_exc:\n",
    "                edge = all_nodes[edge_id]\n",
    "                t = Thread(protocol_RREQ(), args=(nodoAnt_id, nodoAtual, origem, destino))\n",
    "                t.start()\n",
    "                t.join()\n",
    "            #\n",
    "        #\n",
    "    #\n",
    "    return\n",
    "\n",
    "def protocol_RREQ(nodoAnt_id, nodoAtual, origem, destino):\n",
    "    # Em Construção ...\n",
    "#     nodoAtual.addNextDest(origem, nodoAnt_id, 0, 0)\n",
    "#     nodoAtual.edges\n",
    "#     for edge_id in \n",
    "\n",
    "#     if \n",
    "#     return\n"
   ]
  }
 ],
 "metadata": {
  "kernelspec": {
   "display_name": "Python 3",
   "language": "python",
   "name": "python3"
  },
  "language_info": {
   "codemirror_mode": {
    "name": "ipython",
    "version": 3
   },
   "file_extension": ".py",
   "mimetype": "text/x-python",
   "name": "python",
   "nbconvert_exporter": "python",
   "pygments_lexer": "ipython3",
   "version": "3.6.6"
  }
 },
 "nbformat": 4,
 "nbformat_minor": 2
}
