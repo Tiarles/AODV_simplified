{
 "cells": [
  {
   "cell_type": "markdown",
   "metadata": {
    "collapsed": true
   },
   "source": [
    "# Teste dos protocolos de Roteamento DSR, AODV, SAODV e Ariadne\n",
    "## Avaliação Parcial da disciplina de Redes de Comunicação de Dados\n",
    "\n",
    "### Autor: Tiarles Guterres\n",
    "### Criado em Wed may 9 10:19"
   ]
  },
  {
   "cell_type": "code",
   "execution_count": 3,
   "metadata": {
    "collapsed": true
   },
   "outputs": [],
   "source": [
    "import numpy as np\n",
    "import matplotlib.pyplot as plt\n",
    "import pandas as pd\n",
    "\n",
    "import networkx as nx"
   ]
  },
  {
   "cell_type": "code",
   "execution_count": 28,
   "metadata": {},
   "outputs": [],
   "source": [
    "def make_matrix(nodes):\n",
    "    max_key = np.max(nodes.keys())\n",
    "    matrix = np.zeros((max_key, max_key))\n",
    "    \n",
    "    for key, node in zip(nodes.keys(), nodes.values()):\n",
    "        node = np.array(node)\n",
    "        matrix[key-1, node-1] = 1\n",
    "        \n",
    "    return matrix\n",
    "\n",
    "def generateRandomGraph(n_nodos, n_max_lig):\n",
    "    nodos = np.linspace(1, n_nodos, n_nodos, dtype=int)\n",
    "    nodos_sh = nodos.copy()\n",
    "    np.random.choice(nodos_sh)\n",
    "\n",
    "    dict_nodos = {}\n",
    "\n",
    "    for nodo in nodos:\n",
    "        n_lig = np.random.randint(1, n_max_lig + 1)\n",
    "        np.random.shuffle(nodos_sh)\n",
    "        while np.any(nodos_sh[:n_lig] == nodo):\n",
    "            np.random.shuffle(nodos_sh)\n",
    "        lig = nodos_sh[:n_lig]\n",
    "        dict_nodos[nodo] = tuple(lig)\n",
    "    return dict_nodos\n",
    "\n",
    "def generateEdges(nodes):\n",
    "    all_conex = []\n",
    "    for node in nodes.keys():\n",
    "        for nodeb in nodes[node]:\n",
    "            all_conex.append((node, nodeb))\n",
    "    return all_conex"
   ]
  },
  {
   "cell_type": "code",
   "execution_count": 19,
   "metadata": {},
   "outputs": [
    {
     "name": "stdout",
     "output_type": "stream",
     "text": [
      "[[ 0.  1.  1.  1.  0.  0.  0.  0.]\n",
      " [ 1.  0.  0.  0.  1.  0.  0.  0.]\n",
      " [ 1.  0.  0.  0.  1.  0.  0.  0.]\n",
      " [ 1.  0.  0.  0.  0.  1.  0.  0.]\n",
      " [ 0.  1.  1.  0.  0.  0.  1.  0.]\n",
      " [ 0.  0.  0.  1.  0.  0.  0.  1.]\n",
      " [ 0.  0.  0.  0.  1.  0.  0.  1.]\n",
      " [ 0.  0.  0.  0.  0.  1.  1.  0.]]\n"
     ]
    }
   ],
   "source": [
    "nodes = {\n",
    "    1: (2, 3, 4),\n",
    "    2: (1, 5),\n",
    "    3: (1, 5),\n",
    "    4: (1, 6),\n",
    "    5: (2, 3, 7),\n",
    "    6: (4, 8),\n",
    "    7: (5, 8),\n",
    "    8: (6, 7)\n",
    "}\n",
    "\n",
    "# print(make_matrix(nodes))\n",
    "# graph = generateRandomGraph(100, 5)\n",
    "# print make_matrix(graph)"
   ]
  },
  {
   "cell_type": "code",
   "execution_count": 36,
   "metadata": {},
   "outputs": [
    {
     "data": {
      "image/png": "[encoded data removed]",
      "text/plain": [
       "<matplotlib.figure.Figure at 0x7f98d01f1d50>"
      ]
     },
     "metadata": {},
     "output_type": "display_data"
    }
   ],
   "source": [
    "# https://networkx.github.io/documentation/stable/tutorial.html\n",
    "\n",
    "edges = generateEdges(nodes)\n",
    "\n",
    "G = nx.Graph()\n",
    "G.add_nodes_from(nodes.keys())\n",
    "G.add_edges_from(edges)\n",
    "nx.draw(G, with_labels=True, font_weight='bold')\n",
    "plt.show()"
   ]
  },
  {
   "cell_type": "code",
   "execution_count": 35,
   "metadata": {},
   "outputs": [],
   "source": [
    "# Aplicação do modelo de Roteamento DSR\n",
    "\n"
   ]
  },
  {
   "cell_type": "code",
   "execution_count": null,
   "metadata": {},
   "outputs": [],
   "source": [
    "# Aplicação do modelo de Roteamento AODV"
   ]
  },
  {
   "cell_type": "code",
   "execution_count": null,
   "metadata": {},
   "outputs": [],
   "source": [
    "# Aplicação do modelo de Roteamento SAODV"
   ]
  },
  {
   "cell_type": "code",
   "execution_count": null,
   "metadata": {
    "collapsed": true
   },
   "outputs": [],
   "source": [
    "# Aplicação do modelo de Roteamento Ariadne"
   ]
  },
  {
   "cell_type": "code",
   "execution_count": null,
   "metadata": {},
   "outputs": [],
   "source": []
  },
  {
   "cell_type": "code",
   "execution_count": null,
   "metadata": {
    "collapsed": true
   },
   "outputs": [],
   "source": []
  },
  {
   "cell_type": "code",
   "execution_count": null,
   "metadata": {
    "collapsed": true
   },
   "outputs": [],
   "source": []
  },
  {
   "cell_type": "code",
   "execution_count": null,
   "metadata": {
    "collapsed": true
   },
   "outputs": [],
   "source": []
  },
  {
   "cell_type": "markdown",
   "metadata": {},
   "source": [
    "### Testes simples de busca"
   ]
  },
  {
   "cell_type": "code",
   "execution_count": 6,
   "metadata": {},
   "outputs": [
    {
     "name": "stdout",
     "output_type": "stream",
     "text": [
      "(1, 6)\n"
     ]
    }
   ],
   "source": [
    "# Quero enviar uma pacote de 4 a 7\n",
    "\n",
    "ca, cb = nodes[4]; print(c1,c2)"
   ]
  },
  {
   "cell_type": "code",
   "execution_count": 9,
   "metadata": {},
   "outputs": [
    {
     "name": "stdout",
     "output_type": "stream",
     "text": [
      "((2, 3, 4), (4, 8))\n"
     ]
    }
   ],
   "source": [
    "caa, cab, cac = nodes[c1]\n",
    "cba, cbb      = nodes[c2]\n",
    "print((caa, cab, cac), (cba, cbb))"
   ]
  },
  {
   "cell_type": "code",
   "execution_count": 12,
   "metadata": {},
   "outputs": [
    {
     "name": "stdout",
     "output_type": "stream",
     "text": [
      "(1, 5)\n",
      "(1, 5)\n",
      "(1, 6)\n",
      "(1, 6)\n",
      "(6, 7)\n"
     ]
    }
   ],
   "source": [
    "caaa, caab = nodes[caa]\n",
    "caba, cabb = nodes[cab]\n",
    "caca, cacb = nodes[cac]\n",
    "\n",
    "cbaa, cbab = nodes[cba]\n",
    "cbba, cbbb = nodes[cbb]\n",
    "\n",
    "print(caaa, caab)\n",
    "print(caba, cabb)\n",
    "print(caca, cacb)\n",
    "\n",
    "print(cbaa, cbab)\n",
    "print(cbba, cbbb)\n"
   ]
  },
  {
   "cell_type": "code",
   "execution_count": null,
   "metadata": {
    "collapsed": true
   },
   "outputs": [],
   "source": []
  },
  {
   "cell_type": "code",
   "execution_count": null,
   "metadata": {
    "collapsed": true
   },
   "outputs": [],
   "source": []
  }
 ],
 "metadata": {
  "kernelspec": {
   "display_name": "Python 3",
   "language": "python",
   "name": "python3"
  },
  "language_info": {
   "codemirror_mode": {
    "name": "ipython",
    "version": 3
   },
   "file_extension": ".py",
   "mimetype": "text/x-python",
   "name": "python",
   "nbconvert_exporter": "python",
   "pygments_lexer": "ipython3",
   "version": "3.6.6"
  }
 },
 "nbformat": 4,
 "nbformat_minor": 2
}
